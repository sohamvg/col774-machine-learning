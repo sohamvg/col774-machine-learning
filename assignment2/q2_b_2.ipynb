{
 "metadata": {
  "language_info": {
   "codemirror_mode": {
    "name": "ipython",
    "version": 3
   },
   "file_extension": ".py",
   "mimetype": "text/x-python",
   "name": "python",
   "nbconvert_exporter": "python",
   "pygments_lexer": "ipython3",
   "version": "3.8.5-final"
  },
  "orig_nbformat": 2,
  "kernelspec": {
   "name": "python3",
   "display_name": "Python 3.8.5 64-bit (conda)",
   "metadata": {
    "interpreter": {
     "hash": "3b97f6205e13cf85ea01e4081d87b6f06bf272a6e460f325999b991fb6c68282"
    }
   }
  }
 },
 "nbformat": 4,
 "nbformat_minor": 2,
 "cells": [
  {
   "cell_type": "code",
   "execution_count": 1,
   "metadata": {},
   "outputs": [],
   "source": [
    "import numpy as np\n",
    "from sklearn import svm\n",
    "import time"
   ]
  },
  {
   "cell_type": "code",
   "execution_count": 11,
   "metadata": {},
   "outputs": [],
   "source": [
    "train_file = \"C:/IITD/sem5/col774-ml/datasets/fmnist_data/fashion_mnist/train.csv\"\n",
    "test_file = \"C:/IITD/sem5/col774-ml/datasets/fmnist_data/fashion_mnist/test.csv\"\n",
    "val_file = \"C:/IITD/sem5/col774-ml/datasets/fmnist_data/fashion_mnist/val.csv\"\n",
    "\n",
    "train_data = np.genfromtxt(train_file, delimiter=',')\n",
    "test_data = np.genfromtxt(test_file, delimiter=',')\n",
    "val_data = np.genfromtxt(val_file, delimiter=',')"
   ]
  },
  {
   "cell_type": "code",
   "execution_count": 12,
   "metadata": {},
   "outputs": [],
   "source": [
    "    x = train_data[:, :-1]  # features\n",
    "    x /= x.max() # scale to 0 to 1\n",
    "    y = train_data[:, -1]  # labels"
   ]
  },
  {
   "cell_type": "code",
   "execution_count": 4,
   "metadata": {},
   "outputs": [],
   "source": [
    "    x_test = test_data[:, :-1]  # features\n",
    "    x_test /= x_test.max() # scale to 0 to 1\n",
    "    y_test = test_data[:, -1]  # labels\n",
    "    m_test = y_test.size\n",
    "\n",
    "    x_val = val_data[:, :-1]  # features\n",
    "    x_val /= x_val.max() # scale to 0 to 1\n",
    "    y_val = val_data[:, -1]  # labels\n",
    "    m_val = y_val.size"
   ]
  },
  {
   "cell_type": "code",
   "execution_count": 5,
   "metadata": {},
   "outputs": [
    {
     "output_type": "stream",
     "name": "stdout",
     "text": [
      "[LibSVM]217.61480712890625\n"
     ]
    }
   ],
   "source": [
    "t0 = time.time()\n",
    "clf = svm.SVC(C=1, gamma=0.05, kernel='rbf', verbose=True, max_iter=3000)\n",
    "clf.fit(x, y)\n",
    "t1 = time.time()\n",
    "print(t1-t0)"
   ]
  },
  {
   "cell_type": "code",
   "execution_count": 5,
   "metadata": {},
   "outputs": [],
   "source": [
    "indicator = lambda exp: 1 if exp else 0"
   ]
  },
  {
   "cell_type": "code",
   "execution_count": 8,
   "metadata": {},
   "outputs": [
    {
     "output_type": "stream",
     "name": "stdout",
     "text": [
      "Test set accuracy 88.08\n"
     ]
    }
   ],
   "source": [
    "# test set accuracy\n",
    "\n",
    "test_predictions = np.zeros(m_test, np.int)\n",
    "test_count = 0\n",
    "for i in range(m_test):\n",
    "    test_predictions[i] = clf.predict([x_test[i]])\n",
    "    test_count += indicator(test_predictions[i] == y_test[i])\n",
    "\n",
    "print(\"Test set accuracy\", (test_count / m_test) * 100)"
   ]
  },
  {
   "cell_type": "code",
   "execution_count": 9,
   "metadata": {},
   "outputs": [
    {
     "output_type": "stream",
     "name": "stdout",
     "text": [
      "87.92\n"
     ]
    }
   ],
   "source": [
    "# validation set accuracy\n",
    "\n",
    "val_acc = sum(indicator(y_val[i] == clf.predict([x_val[i]])) for i in range(m_val)) / m_val\n",
    "print(val_acc * 100)"
   ]
  },
  {
   "cell_type": "code",
   "execution_count": 41,
   "metadata": {},
   "outputs": [
    {
     "output_type": "stream",
     "name": "stdout",
     "text": [
      "[[433   1   5  12   3   0  80   0   1   0]\n [  0 482   0   0   1   0   0   0   0   0]\n [  5   4 411   3  41   0  55   0   1   0]\n [ 11   9   7 457  13   0   9   0   1   0]\n [  3   0  37   9 399   0  34   0   2   0]\n [  0   0   0   0   0 473   0  14   2  11]\n [ 38   4  32  14  38   0 315   0   2   0]\n [  0   0   0   0   0  16   0 471   2  14]\n [ 10   0   8   5   5   5   7   1 489   1]\n [  0   0   0   0   0   6   0  14   0 474]]\n"
     ]
    }
   ],
   "source": [
    "# confusion matrix\n",
    "total_classes = 10\n",
    "confusion_matrix = np.zeros((total_classes, total_classes), np.int)\n",
    "\n",
    "for i in range(m_test):\n",
    "    confusion_matrix[test_predictions[i]][int(y_test[i])] += 1\n",
    "\n",
    "print(confusion_matrix)"
   ]
  },
  {
   "cell_type": "code",
   "execution_count": 7,
   "metadata": {},
   "outputs": [
    {
     "output_type": "execute_result",
     "data": {
      "text/plain": [
       "(22500, 784)"
      ]
     },
     "metadata": {},
     "execution_count": 7
    }
   ],
   "source": [
    "x.shape"
   ]
  },
  {
   "cell_type": "code",
   "execution_count": 20,
   "metadata": {},
   "outputs": [],
   "source": [
    "test_data = np.genfromtxt(test_file, delimiter=',')\n",
    "x = train_data[:, :-1]  # features\n",
    "x /= x.max() # scale to 0 to 1\n",
    "y = train_data[:, -1]  # labels"
   ]
  },
  {
   "cell_type": "code",
   "execution_count": 19,
   "metadata": {},
   "outputs": [
    {
     "output_type": "stream",
     "name": "stdout",
     "text": [
      "C 0.001\n",
      "[LibSVM]acc 0.001 0.704 0.693\n",
      "[LibSVM]acc 0.001 0.7 0.6958\n",
      "[LibSVM]acc 0.001 0.6573333333333333 0.6966\n",
      "[LibSVM]acc 0.001 0.712 0.6956\n",
      "[LibSVM]acc 0.001 0.7013333333333334 0.6982\n",
      "avg acc 0.001 3.474666666666667 3.4791999999999996\n",
      "C 1\n",
      "[LibSVM]acc 1 0.8226666666666667 0.8236\n",
      "[LibSVM]acc 1 0.84 0.8272\n",
      "[LibSVM]acc 1 0.8226666666666667 0.8232\n",
      "[LibSVM]acc 1 0.856 0.826\n",
      "[LibSVM]acc 1 0.8306666666666667 0.8262\n",
      "avg acc 1 4.172 4.126200000000001\n",
      "C 5\n",
      "[LibSVM]acc 5 0.8253333333333334 0.83\n",
      "[LibSVM]acc 5 0.84 0.8306\n",
      "[LibSVM]acc 5 0.824 0.8268\n",
      "[LibSVM]acc 5 0.8546666666666667 0.8288\n",
      "[LibSVM]acc 5 0.8373333333333334 0.8272\n",
      "avg acc 5 4.181333333333333 4.143400000000001\n"
     ]
    }
   ],
   "source": [
    "# K-fold cross validation\n",
    "from sklearn.model_selection import KFold\n",
    "kf = KFold(5)\n",
    "\n",
    "x = x[:int(len(x)/6)]\n",
    "\n",
    "for C in [1e-3, 1, 5]:\n",
    "    print(\"C\", C)\n",
    "    avg_val_acc = 0\n",
    "    avg_test_acc = 0\n",
    "    for train, val in kf.split(x):\n",
    "        # print(\"%s %s\" % (train, val))\n",
    "        x_train, x_val, y_train, y_val = x[train], x[val], y[train], y[val]\n",
    "        clf = svm.SVC(C=C, gamma=0.05, kernel='rbf', verbose=True, max_iter=150)\n",
    "        clf.fit(x_train, y_train)\n",
    "        val_acc = sum(indicator(y_val[i] == clf.predict([x_val[i]])) for i in range(len(y_val))) / len(y_val)\n",
    "        test_acc = sum(indicator(y_test[i] == clf.predict([x_test[i]])) for i in range(len(y_test))) / len(y_test)\n",
    "        avg_val_acc += val_acc\n",
    "        avg_test_acc += test_acc\n",
    "        print(\"acc\", C, val_acc, test_acc)\n",
    "    print(\"avg acc\", C, avg_val_acc, avg_test_acc)\n",
    "\n"
   ]
  },
  {
   "cell_type": "code",
   "execution_count": 21,
   "metadata": {},
   "outputs": [
    {
     "output_type": "stream",
     "name": "stdout",
     "text": [
      "C 1e-05\n",
      "[LibSVM]acc 1e-05 0.6693333333333333 0.68\n",
      "[LibSVM]acc 1e-05 0.6906666666666667 0.681\n",
      "[LibSVM]acc 1e-05 0.6253333333333333 0.674\n",
      "[LibSVM]acc 1e-05 0.7106666666666667 0.683\n",
      "[LibSVM]acc 1e-05 0.6786666666666666 0.6832\n",
      "avg acc 1e-05 3.3746666666666663 3.4012000000000002\n",
      "C 10\n",
      "[LibSVM]acc 10 0.8266666666666667 0.8296\n",
      "[LibSVM]acc 10 0.84 0.8302\n",
      "[LibSVM]acc 10 0.816 0.8262\n",
      "[LibSVM]acc 10 0.8546666666666667 0.8288\n",
      "[LibSVM]acc 10 0.8373333333333334 0.827\n",
      "avg acc 10 4.174666666666666 4.1418\n"
     ]
    }
   ],
   "source": [
    "# K-fold cross validation\n",
    "from sklearn.model_selection import KFold\n",
    "kf = KFold(5)\n",
    "\n",
    "x = x[:int(len(x)/6)]\n",
    "\n",
    "for C in [1e-5, 10]:\n",
    "    print(\"C\", C)\n",
    "    avg_val_acc = 0\n",
    "    avg_test_acc = 0\n",
    "    for train, val in kf.split(x):\n",
    "        # print(\"%s %s\" % (train, val))\n",
    "        x_train, x_val, y_train, y_val = x[train], x[val], y[train], y[val]\n",
    "        clf = svm.SVC(C=C, gamma=0.05, kernel='rbf', verbose=True, max_iter=150)\n",
    "        clf.fit(x_train, y_train)\n",
    "        val_acc = sum(indicator(y_val[i] == clf.predict([x_val[i]])) for i in range(len(y_val))) / len(y_val)\n",
    "        test_acc = sum(indicator(y_test[i] == clf.predict([x_test[i]])) for i in range(len(y_test))) / len(y_test)\n",
    "        avg_val_acc += val_acc\n",
    "        avg_test_acc += test_acc\n",
    "        print(\"acc\", C, val_acc, test_acc)\n",
    "    print(\"avg acc\", C, avg_val_acc, avg_test_acc)\n",
    "\n"
   ]
  }
 ]
}