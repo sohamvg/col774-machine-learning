{
 "metadata": {
  "language_info": {
   "codemirror_mode": {
    "name": "ipython",
    "version": 3
   },
   "file_extension": ".py",
   "mimetype": "text/x-python",
   "name": "python",
   "nbconvert_exporter": "python",
   "pygments_lexer": "ipython3",
   "version": "3.8.5-final"
  },
  "orig_nbformat": 2,
  "kernelspec": {
   "name": "python3",
   "display_name": "Python 3.8.5 64-bit (conda)",
   "metadata": {
    "interpreter": {
     "hash": "3b97f6205e13cf85ea01e4081d87b6f06bf272a6e460f325999b991fb6c68282"
    }
   }
  }
 },
 "nbformat": 4,
 "nbformat_minor": 2,
 "cells": [
  {
   "cell_type": "code",
   "execution_count": 2,
   "metadata": {},
   "outputs": [],
   "source": [
    "import numpy as np\n",
    "from cvxopt import matrix\n",
    "from cvxopt import solvers"
   ]
  },
  {
   "cell_type": "code",
   "execution_count": 3,
   "metadata": {},
   "outputs": [],
   "source": [
    "train_file = \"C:/IITD/sem5/col774-ml/datasets/fmnist_data/fashion_mnist/train.csv\"\n",
    "test_file = \"C:/IITD/sem5/col774-ml/datasets/fmnist_data/fashion_mnist/test.csv\"\n",
    "val_file = \"C:/IITD/sem5/col774-ml/datasets/fmnist_data/fashion_mnist/val.csv\"\n",
    "\n",
    "train_data = np.genfromtxt(train_file, delimiter=',')\n",
    "test_data = np.genfromtxt(test_file, delimiter=',')\n",
    "val_data = np.genfromtxt(val_file, delimiter=',')"
   ]
  },
  {
   "cell_type": "code",
   "execution_count": 5,
   "metadata": {},
   "outputs": [],
   "source": [
    "def load_data(data_file):\n",
    "    data = np.genfromtxt(data_file, delimiter=',')\n",
    "    \n",
    "    d = 4 # last digit of entry number\n",
    "    data = data[(data[:,-1] == d) | (data[:, -1] == d+1)]   # filter for labels d and d+1\n",
    "\n",
    "    m = data.shape[0]\n",
    "    x = data[:, :-1]  # features\n",
    "    x /= x.max()    # scale to 0-1\n",
    "    y = data[:, -1].reshape((m, 1))  # labels\n",
    "    y = np.where(y == d, -1, 1) # change label d to -1 and d+1 to 1\n",
    "\n",
    "    return m, x, y\n",
    "\n",
    "m, x, y = load_data(train_file)\n",
    "m_test, x_test, y_test = load_data(test_file)\n",
    "m_val, x_val, y_val = load_data(val_file)"
   ]
  },
  {
   "cell_type": "code",
   "execution_count": 9,
   "metadata": {},
   "outputs": [
    {
     "output_type": "stream",
     "name": "stdout",
     "text": [
      "0\n",
      "100\n",
      "200\n",
      "300\n",
      "400\n",
      "500\n",
      "600\n",
      "700\n",
      "800\n",
      "900\n",
      "1000\n",
      "1100\n",
      "1200\n",
      "1300\n",
      "1400\n",
      "1500\n",
      "1600\n",
      "1700\n",
      "1800\n",
      "1900\n",
      "2000\n",
      "2100\n",
      "2200\n",
      "2300\n",
      "2400\n",
      "2500\n",
      "2600\n",
      "2700\n",
      "2800\n",
      "2900\n",
      "3000\n",
      "3100\n",
      "3200\n",
      "3300\n",
      "3400\n",
      "3500\n",
      "3600\n",
      "3700\n",
      "3800\n",
      "3900\n",
      "4000\n",
      "4100\n",
      "4200\n",
      "4300\n",
      "4400\n"
     ]
    }
   ],
   "source": [
    "P = np.zeros((m, m))\n",
    "\n",
    "for i in range(m):\n",
    "    if i % 100 == 0:\n",
    "        print(i)\n",
    "    for j in range(i, m):\n",
    "        P[i][j] = y[i] * y[j] * np.dot(x[i], x[j])\n",
    "        P[j][i] = P[i][j]"
   ]
  },
  {
   "cell_type": "code",
   "execution_count": 10,
   "metadata": {},
   "outputs": [
    {
     "output_type": "stream",
     "name": "stdout",
     "text": [
      "int32 float64 float64 float64 float64\n"
     ]
    }
   ],
   "source": [
    "q = -np.ones((m, 1))\n",
    "\n",
    "G = np.vstack((-np.identity(m), np.identity(m)))\n",
    "C = 1\n",
    "h = np.vstack((np.zeros((m, 1)), np.full((m, 1), C)))\n",
    "\n",
    "A = y.T\n",
    "b = np.zeros(1)\n",
    "print(A.dtype, b.dtype, q.dtype, G.dtype, h.dtype)"
   ]
  },
  {
   "cell_type": "code",
   "execution_count": 11,
   "metadata": {
    "tags": []
   },
   "outputs": [],
   "source": [
    "P = matrix(P, tc='d')\n",
    "q = matrix(q, tc='d')\n",
    "G = matrix(G, tc='d')\n",
    "h = matrix(h, tc='d')\n",
    "A = matrix(A, tc='d')\n",
    "b = matrix(b, tc='d')"
   ]
  },
  {
   "cell_type": "code",
   "execution_count": 12,
   "metadata": {},
   "outputs": [
    {
     "output_type": "stream",
     "name": "stdout",
     "text": [
      "     pcost       dcost       gap    pres   dres\n",
      " 0: -1.8144e+02 -7.2340e+03  4e+04  2e+00  2e-12\n",
      " 1: -1.0203e+02 -3.4492e+03  6e+03  3e-01  9e-13\n",
      " 2: -3.3534e+01 -9.1974e+02  2e+03  7e-02  7e-13\n",
      " 3: -1.1925e+01 -4.1859e+02  7e+02  2e-02  3e-13\n",
      " 4: -3.6847e+00 -1.7770e+02  3e+02  8e-03  1e-13\n",
      " 5: -1.2594e+00 -5.9907e+01  9e+01  2e-03  4e-14\n",
      " 6: -6.7211e-01 -2.5705e+01  4e+01  9e-04  2e-14\n",
      " 7: -4.1327e-01 -1.1925e+01  2e+01  3e-04  1e-14\n",
      " 8: -5.1263e-01 -5.5495e+00  6e+00  1e-04  8e-15\n",
      " 9: -5.7700e-01 -3.1645e+00  3e+00  4e-05  8e-15\n",
      "10: -7.0634e-01 -2.0084e+00  1e+00  3e-06  9e-15\n",
      "11: -9.3593e-01 -1.4177e+00  5e-01  7e-07  1e-14\n",
      "12: -1.0291e+00 -1.2146e+00  2e-01  2e-16  1e-14\n",
      "13: -1.0863e+00 -1.1319e+00  5e-02  3e-16  1e-14\n",
      "14: -1.1048e+00 -1.1100e+00  5e-03  3e-16  1e-14\n",
      "15: -1.1073e+00 -1.1074e+00  1e-04  2e-16  1e-14\n",
      "16: -1.1073e+00 -1.1073e+00  1e-06  5e-16  1e-14\n",
      "17: -1.1073e+00 -1.1073e+00  1e-08  8e-16  1e-14\n",
      "Optimal solution found.\n"
     ]
    }
   ],
   "source": [
    "sol = solvers.qp(P,q,G,h,A,b)"
   ]
  },
  {
   "cell_type": "code",
   "execution_count": 13,
   "metadata": {
    "tags": []
   },
   "outputs": [],
   "source": [
    "alpha = np.array(sol['x'])\n",
    "\n",
    "w = sum(alpha[i] * y[i] * x[i] for i in range(m))\n",
    "\n",
    "S = set() # support vectors\n",
    "for i in range(m):\n",
    "    if alpha[i] > 1e-3:\n",
    "        S.add(i)\n",
    "\n",
    "b = sum(y[s] - np.dot(w, x[s]) for s in S) / len(S) # take average over all support vectors"
   ]
  },
  {
   "cell_type": "code",
   "execution_count": 15,
   "metadata": {},
   "outputs": [
    {
     "output_type": "execute_result",
     "data": {
      "text/plain": [
       "array([0.49688294])"
      ]
     },
     "metadata": {},
     "execution_count": 15
    }
   ],
   "source": [
    "b"
   ]
  },
  {
   "cell_type": "code",
   "execution_count": 229,
   "metadata": {},
   "outputs": [
    {
     "output_type": "stream",
     "name": "stdout",
     "text": [
      "1.0 0.996 0.998\n"
     ]
    }
   ],
   "source": [
    "def indicator(exp):\n",
    "    if exp:\n",
    "        return 1\n",
    "    else:\n",
    "        return 0\n",
    "\n",
    "train_acc = sum(indicator(y[i] == np.sign(np.dot(w, x[i]) + b)) for i in range(m)) / m\n",
    "val_acc = sum(indicator(y_val[i] == np.sign(np.dot(w, x_val[i]) + b)) for i in range(m_val)) / m_val\n",
    "test_acc = sum(indicator(y_test[i] == np.sign(np.dot(w, x_test[i]) + b)) for i in range(m_test)) / m_test\n",
    "\n",
    "print(train_acc, val_acc, test_acc)\n",
    "# for i in range(m_test):\n",
    "#     print(y_test[i], np.sign(np.dot(w, x_test[i]) + b))"
   ]
  },
  {
   "cell_type": "code",
   "execution_count": 232,
   "metadata": {},
   "outputs": [],
   "source": [
    "def gaussian_kernel(x, z, gamma):\n",
    "    return np.exp(-gamma * np.linalg.norm(x-z)**2)"
   ]
  },
  {
   "cell_type": "code",
   "execution_count": 234,
   "metadata": {},
   "outputs": [
    {
     "output_type": "stream",
     "name": "stdout",
     "text": [
      "0\n",
      "100\n",
      "200\n",
      "300\n",
      "400\n",
      "500\n",
      "600\n",
      "700\n",
      "800\n",
      "900\n",
      "1000\n",
      "1100\n",
      "1200\n",
      "1300\n",
      "1400\n",
      "1500\n",
      "1600\n",
      "1700\n",
      "1800\n",
      "1900\n",
      "2000\n",
      "2100\n",
      "2200\n",
      "2300\n",
      "2400\n",
      "2500\n",
      "2600\n",
      "2700\n",
      "2800\n",
      "2900\n",
      "3000\n",
      "3100\n",
      "3200\n",
      "3300\n",
      "3400\n",
      "3500\n",
      "3600\n",
      "3700\n",
      "3800\n",
      "3900\n",
      "4000\n",
      "4100\n",
      "4200\n",
      "4300\n",
      "4400\n"
     ]
    }
   ],
   "source": [
    "gamma = 0.05\n",
    "\n",
    "P = np.zeros((m, m))\n",
    "\n",
    "for i in range(m):\n",
    "    if i % 100 == 0:\n",
    "        print(i)\n",
    "    for j in range(i, m):\n",
    "        P[i][j] = y[i] * y[j] * gaussian_kernel(x[i], x[j], gamma)\n",
    "        P[j][i] = P[i][j]"
   ]
  },
  {
   "cell_type": "code",
   "execution_count": 7,
   "metadata": {},
   "outputs": [
    {
     "output_type": "stream",
     "name": "stdout",
     "text": [
      "     pcost       dcost       gap    pres   dres\n",
      " 0: -1.8144e+02 -7.2340e+03  4e+04  2e+00  2e-12\n",
      " 1: -1.0203e+02 -3.4492e+03  6e+03  3e-01  9e-13\n",
      " 2: -3.3534e+01 -9.1974e+02  2e+03  7e-02  7e-13\n",
      " 3: -1.1925e+01 -4.1859e+02  7e+02  2e-02  3e-13\n",
      " 4: -3.6847e+00 -1.7770e+02  3e+02  8e-03  1e-13\n",
      " 5: -1.2594e+00 -5.9907e+01  9e+01  2e-03  4e-14\n",
      " 6: -6.7211e-01 -2.5705e+01  4e+01  9e-04  2e-14\n",
      " 7: -4.1327e-01 -1.1925e+01  2e+01  3e-04  1e-14\n",
      " 8: -5.1263e-01 -5.5495e+00  6e+00  1e-04  8e-15\n",
      " 9: -5.7700e-01 -3.1645e+00  3e+00  4e-05  8e-15\n",
      "10: -7.0634e-01 -2.0084e+00  1e+00  3e-06  9e-15\n",
      "11: -9.3593e-01 -1.4177e+00  5e-01  7e-07  1e-14\n",
      "12: -1.0291e+00 -1.2146e+00  2e-01  2e-16  1e-14\n",
      "13: -1.0863e+00 -1.1319e+00  5e-02  3e-16  1e-14\n",
      "14: -1.1048e+00 -1.1100e+00  5e-03  3e-16  1e-14\n",
      "15: -1.1073e+00 -1.1074e+00  1e-04  2e-16  1e-14\n",
      "16: -1.1073e+00 -1.1073e+00  1e-06  5e-16  1e-14\n",
      "17: -1.1073e+00 -1.1073e+00  1e-08  8e-16  1e-14\n",
      "Optimal solution found.\n"
     ]
    }
   ],
   "source": [
    "q = -np.ones((m, 1))\n",
    "G = np.vstack((-np.identity(m), np.identity(m)))\n",
    "C = 1\n",
    "h = np.vstack((np.zeros((m, 1)), np.full((m, 1), C)))\n",
    "A = y.T\n",
    "b = np.zeros(1)\n",
    "\n",
    "P = matrix(P, tc='d')\n",
    "q = matrix(q, tc='d')\n",
    "G = matrix(G, tc='d')\n",
    "h = matrix(h, tc='d')\n",
    "A = matrix(A, tc='d')\n",
    "b = matrix(b, tc='d')\n",
    "\n",
    "sol = solvers.qp(P,q,G,h,A,b)"
   ]
  },
  {
   "cell_type": "code",
   "execution_count": 8,
   "metadata": {},
   "outputs": [
    {
     "output_type": "error",
     "ename": "NameError",
     "evalue": "name 'gaussian_kernel' is not defined",
     "traceback": [
      "\u001b[1;31m---------------------------------------------------------------------------\u001b[0m",
      "\u001b[1;31mNameError\u001b[0m                                 Traceback (most recent call last)",
      "\u001b[1;32m<ipython-input-8-ffcd757f0bfc>\u001b[0m in \u001b[0;36m<module>\u001b[1;34m\u001b[0m\n\u001b[0;32m      6\u001b[0m         \u001b[0mS\u001b[0m\u001b[1;33m.\u001b[0m\u001b[0madd\u001b[0m\u001b[1;33m(\u001b[0m\u001b[0mi\u001b[0m\u001b[1;33m)\u001b[0m\u001b[1;33m\u001b[0m\u001b[1;33m\u001b[0m\u001b[0m\n\u001b[0;32m      7\u001b[0m \u001b[1;33m\u001b[0m\u001b[0m\n\u001b[1;32m----> 8\u001b[1;33m \u001b[0mb\u001b[0m \u001b[1;33m=\u001b[0m \u001b[0msum\u001b[0m\u001b[1;33m(\u001b[0m\u001b[0my\u001b[0m\u001b[1;33m[\u001b[0m\u001b[0ms\u001b[0m\u001b[1;33m]\u001b[0m \u001b[1;33m-\u001b[0m \u001b[0msum\u001b[0m\u001b[1;33m(\u001b[0m\u001b[0malpha\u001b[0m\u001b[1;33m[\u001b[0m\u001b[0mj\u001b[0m\u001b[1;33m]\u001b[0m \u001b[1;33m*\u001b[0m \u001b[0my\u001b[0m\u001b[1;33m[\u001b[0m\u001b[0mj\u001b[0m\u001b[1;33m]\u001b[0m \u001b[1;33m*\u001b[0m \u001b[0mgaussian_kernel\u001b[0m\u001b[1;33m(\u001b[0m\u001b[0mx\u001b[0m\u001b[1;33m[\u001b[0m\u001b[0mj\u001b[0m\u001b[1;33m]\u001b[0m\u001b[1;33m,\u001b[0m \u001b[0mx\u001b[0m\u001b[1;33m[\u001b[0m\u001b[0ms\u001b[0m\u001b[1;33m]\u001b[0m\u001b[1;33m,\u001b[0m \u001b[0mgamma\u001b[0m\u001b[1;33m)\u001b[0m \u001b[1;32mfor\u001b[0m \u001b[0mj\u001b[0m \u001b[1;32min\u001b[0m \u001b[0mS\u001b[0m\u001b[1;33m)\u001b[0m \u001b[1;32mfor\u001b[0m \u001b[0ms\u001b[0m \u001b[1;32min\u001b[0m \u001b[0mS\u001b[0m\u001b[1;33m)\u001b[0m \u001b[1;33m/\u001b[0m \u001b[0mlen\u001b[0m\u001b[1;33m(\u001b[0m\u001b[0mS\u001b[0m\u001b[1;33m)\u001b[0m \u001b[1;31m# take average over all support vectors\u001b[0m\u001b[1;33m\u001b[0m\u001b[1;33m\u001b[0m\u001b[0m\n\u001b[0m",
      "\u001b[1;32m<ipython-input-8-ffcd757f0bfc>\u001b[0m in \u001b[0;36m<genexpr>\u001b[1;34m(.0)\u001b[0m\n\u001b[0;32m      6\u001b[0m         \u001b[0mS\u001b[0m\u001b[1;33m.\u001b[0m\u001b[0madd\u001b[0m\u001b[1;33m(\u001b[0m\u001b[0mi\u001b[0m\u001b[1;33m)\u001b[0m\u001b[1;33m\u001b[0m\u001b[1;33m\u001b[0m\u001b[0m\n\u001b[0;32m      7\u001b[0m \u001b[1;33m\u001b[0m\u001b[0m\n\u001b[1;32m----> 8\u001b[1;33m \u001b[0mb\u001b[0m \u001b[1;33m=\u001b[0m \u001b[0msum\u001b[0m\u001b[1;33m(\u001b[0m\u001b[0my\u001b[0m\u001b[1;33m[\u001b[0m\u001b[0ms\u001b[0m\u001b[1;33m]\u001b[0m \u001b[1;33m-\u001b[0m \u001b[0msum\u001b[0m\u001b[1;33m(\u001b[0m\u001b[0malpha\u001b[0m\u001b[1;33m[\u001b[0m\u001b[0mj\u001b[0m\u001b[1;33m]\u001b[0m \u001b[1;33m*\u001b[0m \u001b[0my\u001b[0m\u001b[1;33m[\u001b[0m\u001b[0mj\u001b[0m\u001b[1;33m]\u001b[0m \u001b[1;33m*\u001b[0m \u001b[0mgaussian_kernel\u001b[0m\u001b[1;33m(\u001b[0m\u001b[0mx\u001b[0m\u001b[1;33m[\u001b[0m\u001b[0mj\u001b[0m\u001b[1;33m]\u001b[0m\u001b[1;33m,\u001b[0m \u001b[0mx\u001b[0m\u001b[1;33m[\u001b[0m\u001b[0ms\u001b[0m\u001b[1;33m]\u001b[0m\u001b[1;33m,\u001b[0m \u001b[0mgamma\u001b[0m\u001b[1;33m)\u001b[0m \u001b[1;32mfor\u001b[0m \u001b[0mj\u001b[0m \u001b[1;32min\u001b[0m \u001b[0mS\u001b[0m\u001b[1;33m)\u001b[0m \u001b[1;32mfor\u001b[0m \u001b[0ms\u001b[0m \u001b[1;32min\u001b[0m \u001b[0mS\u001b[0m\u001b[1;33m)\u001b[0m \u001b[1;33m/\u001b[0m \u001b[0mlen\u001b[0m\u001b[1;33m(\u001b[0m\u001b[0mS\u001b[0m\u001b[1;33m)\u001b[0m \u001b[1;31m# take average over all support vectors\u001b[0m\u001b[1;33m\u001b[0m\u001b[1;33m\u001b[0m\u001b[0m\n\u001b[0m",
      "\u001b[1;32m<ipython-input-8-ffcd757f0bfc>\u001b[0m in \u001b[0;36m<genexpr>\u001b[1;34m(.0)\u001b[0m\n\u001b[0;32m      6\u001b[0m         \u001b[0mS\u001b[0m\u001b[1;33m.\u001b[0m\u001b[0madd\u001b[0m\u001b[1;33m(\u001b[0m\u001b[0mi\u001b[0m\u001b[1;33m)\u001b[0m\u001b[1;33m\u001b[0m\u001b[1;33m\u001b[0m\u001b[0m\n\u001b[0;32m      7\u001b[0m \u001b[1;33m\u001b[0m\u001b[0m\n\u001b[1;32m----> 8\u001b[1;33m \u001b[0mb\u001b[0m \u001b[1;33m=\u001b[0m \u001b[0msum\u001b[0m\u001b[1;33m(\u001b[0m\u001b[0my\u001b[0m\u001b[1;33m[\u001b[0m\u001b[0ms\u001b[0m\u001b[1;33m]\u001b[0m \u001b[1;33m-\u001b[0m \u001b[0msum\u001b[0m\u001b[1;33m(\u001b[0m\u001b[0malpha\u001b[0m\u001b[1;33m[\u001b[0m\u001b[0mj\u001b[0m\u001b[1;33m]\u001b[0m \u001b[1;33m*\u001b[0m \u001b[0my\u001b[0m\u001b[1;33m[\u001b[0m\u001b[0mj\u001b[0m\u001b[1;33m]\u001b[0m \u001b[1;33m*\u001b[0m \u001b[0mgaussian_kernel\u001b[0m\u001b[1;33m(\u001b[0m\u001b[0mx\u001b[0m\u001b[1;33m[\u001b[0m\u001b[0mj\u001b[0m\u001b[1;33m]\u001b[0m\u001b[1;33m,\u001b[0m \u001b[0mx\u001b[0m\u001b[1;33m[\u001b[0m\u001b[0ms\u001b[0m\u001b[1;33m]\u001b[0m\u001b[1;33m,\u001b[0m \u001b[0mgamma\u001b[0m\u001b[1;33m)\u001b[0m \u001b[1;32mfor\u001b[0m \u001b[0mj\u001b[0m \u001b[1;32min\u001b[0m \u001b[0mS\u001b[0m\u001b[1;33m)\u001b[0m \u001b[1;32mfor\u001b[0m \u001b[0ms\u001b[0m \u001b[1;32min\u001b[0m \u001b[0mS\u001b[0m\u001b[1;33m)\u001b[0m \u001b[1;33m/\u001b[0m \u001b[0mlen\u001b[0m\u001b[1;33m(\u001b[0m\u001b[0mS\u001b[0m\u001b[1;33m)\u001b[0m \u001b[1;31m# take average over all support vectors\u001b[0m\u001b[1;33m\u001b[0m\u001b[1;33m\u001b[0m\u001b[0m\n\u001b[0m",
      "\u001b[1;31mNameError\u001b[0m: name 'gaussian_kernel' is not defined"
     ]
    }
   ],
   "source": [
    "alpha = np.array(sol['x'])\n",
    "\n",
    "S = set() # support vectors\n",
    "for i in range(m):\n",
    "    if alpha[i] > 1e-3:\n",
    "        S.add(i)\n",
    "\n",
    "b = sum(y[s] - sum(alpha[j] * y[j] * gaussian_kernel(x[j], x[s], gamma) for j in S) for s in S) / len(S) # take average over all support vectors\n"
   ]
  },
  {
   "cell_type": "code",
   "execution_count": 266,
   "metadata": {},
   "outputs": [
    {
     "output_type": "stream",
     "name": "stdout",
     "text": [
      "0.996 0.996\n"
     ]
    }
   ],
   "source": [
    "def predict(x_predict):\n",
    "    return np.sign(sum(alpha[i] * y[i] * gaussian_kernel(x[i], x_predict, gamma) for i in range(m)) + b)\n",
    "\n",
    "val_acc = sum(indicator(y_val[i] == predict(x_val[i])) for i in range(m_val)) / m_val\n",
    "test_acc = sum(indicator(y_test[i] == predict(x_test[i])) for i in range(m_test)) / m_test\n",
    "\n",
    "print(val_acc, test_acc)"
   ]
  }
 ]
}