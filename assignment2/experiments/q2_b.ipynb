{
 "metadata": {
  "language_info": {
   "codemirror_mode": {
    "name": "ipython",
    "version": 3
   },
   "file_extension": ".py",
   "mimetype": "text/x-python",
   "name": "python",
   "nbconvert_exporter": "python",
   "pygments_lexer": "ipython3",
   "version": "3.8.5-final"
  },
  "orig_nbformat": 2,
  "kernelspec": {
   "name": "python3",
   "display_name": "Python 3.8.5 64-bit (conda)",
   "metadata": {
    "interpreter": {
     "hash": "3b97f6205e13cf85ea01e4081d87b6f06bf272a6e460f325999b991fb6c68282"
    }
   }
  }
 },
 "nbformat": 4,
 "nbformat_minor": 2,
 "cells": [
  {
   "cell_type": "code",
   "execution_count": 1,
   "metadata": {},
   "outputs": [],
   "source": [
    "import numpy as np\n",
    "from cvxopt import matrix\n",
    "from cvxopt import solvers\n",
    "\n",
    "solvers.options['show_progress'] = False"
   ]
  },
  {
   "cell_type": "code",
   "execution_count": 2,
   "metadata": {},
   "outputs": [],
   "source": [
    "indicator = lambda exp: 1 if exp else 0\n",
    "\n",
    "def gaussian_kernel(x, z, gamma):\n",
    "    return np.exp(-gamma * np.linalg.norm(x-z)**2)\n",
    "\n",
    "def extract_data(data):\n",
    "    \"\"\"\n",
    "        Returns the feature data size m, feature vector x and label vector y.\n",
    "    \"\"\"\n",
    "    m = data.shape[0]\n",
    "    x = data[:, :-1]  # features\n",
    "    x /= x.max()    # scale to 0-1\n",
    "    y = data[:, -1].reshape((m, 1))  # labels\n",
    "\n",
    "    return m, x, y\n",
    "\n",
    "def get_class_data(data, class1, class2):\n",
    "    \"\"\"\n",
    "        Returns data for class labels class1 and class2. Also changes the label class1 to -1 and class2 to 1 in the data.\n",
    "    \"\"\"\n",
    "    data = data[(data[:,-1] == class1) | (data[:, -1] == class2)] # filter for class1 and class2\n",
    "    data[:, -1] = np.where(data[:, -1] == class1, -1, 1) # change class labels to -1 and 1\n",
    "    return data"
   ]
  },
  {
   "cell_type": "code",
   "execution_count": 100,
   "metadata": {},
   "outputs": [],
   "source": [
    "class SVMBinaryClassifier:\n",
    "\n",
    "    def __init__(self, train_data, C, gamma):\n",
    "        self.m, self.x, self.y = extract_data(train_data)\n",
    "        self.C = C\n",
    "        self.gamma = gamma\n",
    "\n",
    "    def train(self):\n",
    "        m, x, y, C, gamma = self.m, self.x, self.y, self.C, self.gamma\n",
    "        \n",
    "        P = np.zeros((m, m))\n",
    "\n",
    "        for i in range(m):\n",
    "            for j in range(i, m):\n",
    "                P[i, j] = y[i] * y[j] * gaussian_kernel(x[i], x[j], gamma)\n",
    "                P[j, i] = P[i, j]\n",
    "\n",
    "        q = -np.ones((m, 1))\n",
    "        G = np.vstack((-np.identity(m), np.identity(m)))\n",
    "        h = np.vstack((np.zeros((m, 1)), np.full((m, 1), C)))\n",
    "        A = y.T\n",
    "        b = np.zeros(1)\n",
    "\n",
    "        P = matrix(P, tc='d')\n",
    "        q = matrix(q, tc='d')\n",
    "        G = matrix(G, tc='d')\n",
    "        h = matrix(h, tc='d')\n",
    "        A = matrix(A, tc='d')\n",
    "        b = matrix(b, tc='d')\n",
    "\n",
    "        sol = solvers.qp(P,q,G,h,A,b)\n",
    "\n",
    "        alpha = np.array(sol['x'])\n",
    "\n",
    "        S = set() # support vectors\n",
    "\n",
    "        # check for non-zero (>= epsilon) vectors\n",
    "        epsilon = 1e-4\n",
    "        while(len(S) == 0):\n",
    "            for i in range(m):\n",
    "                if alpha[i] >= epsilon:\n",
    "                    S.add(i)\n",
    "            epsilon = epsilon / 20\n",
    "\n",
    "        b = sum(y[s] - sum(alpha[j] * y[j] * gaussian_kernel(x[j], x[s], gamma) for j in S) for s in S) / len(S) # take average over all support vectors\n",
    "\n",
    "        self.alpha = alpha\n",
    "        self.b = b\n",
    "\n",
    "    def predict(self, x_predict):\n",
    "        m, x, y, gamma, alpha, b = self.m, self.x, self.y, self.gamma, self.alpha, self.b\n",
    "        return np.sign(sum(alpha[i] * y[i] * gaussian_kernel(x[i], x_predict, gamma) for i in range(m)) + b)\n"
   ]
  },
  {
   "cell_type": "code",
   "execution_count": 106,
   "metadata": {},
   "outputs": [],
   "source": [
    "class SVMMultiClassifier:\n",
    "    def __init__(self, total_classes, train_data, C, gamma):\n",
    "        self.total_classes = total_classes\n",
    "        self.svm = [[None for j in range(total_classes)] for i in range(total_classes)]\n",
    "        for i in range(total_classes):\n",
    "            for j in range(i+1, total_classes):\n",
    "                self.svm[i][j] = SVMBinaryClassifier(get_class_data(train_data, i, j), C, gamma)\n",
    "\n",
    "    def get_svms(self):\n",
    "        return self.svm\n",
    "\n",
    "    def train(self):\n",
    "        total_classes, svm = self.total_classes, self.svm\n",
    "        for i in range(total_classes):\n",
    "            for j in range(i+1, total_classes):\n",
    "                svm[i][j].train()\n",
    "\n",
    "    def predict(self, x_predict):\n",
    "        total_classes, svm = self.total_classes, self.svm\n",
    "        votes = np.zeros(total_classes, np.int)\n",
    "        for i in range(total_classes):\n",
    "            for j in range(i+1, total_classes):\n",
    "                p = svm[i][j].predict(x_predict)\n",
    "                if p < 0:\n",
    "                    votes[i] += 1\n",
    "                else:\n",
    "                    votes[j] += 1\n",
    "        return np.argmax(votes)"
   ]
  },
  {
   "cell_type": "code",
   "execution_count": 96,
   "metadata": {},
   "outputs": [],
   "source": [
    "train_file = \"C:/IITD/sem5/col774-ml/datasets/fmnist_data/fashion_mnist/train.csv\"\n",
    "test_file = \"C:/IITD/sem5/col774-ml/datasets/fmnist_data/fashion_mnist/test.csv\"\n",
    "val_file = \"C:/IITD/sem5/col774-ml/datasets/fmnist_data/fashion_mnist/val.csv\"\n",
    "\n",
    "train_data = np.genfromtxt(train_file, delimiter=',')\n",
    "test_data = np.genfromtxt(test_file, delimiter=',')\n",
    "val_data = np.genfromtxt(val_file, delimiter=',')"
   ]
  },
  {
   "cell_type": "code",
   "execution_count": 19,
   "metadata": {},
   "outputs": [
    {
     "output_type": "execute_result",
     "data": {
      "text/plain": [
       "array([[0., 0., 0., ..., 0., 0., 5.],\n",
       "       [0., 0., 0., ..., 0., 0., 1.],\n",
       "       [0., 0., 0., ..., 0., 0., 7.],\n",
       "       ...,\n",
       "       [0., 0., 0., ..., 0., 0., 7.],\n",
       "       [0., 0., 0., ..., 0., 0., 0.],\n",
       "       [0., 0., 0., ..., 0., 0., 8.]])"
      ]
     },
     "metadata": {},
     "execution_count": 19
    }
   ],
   "source": [
    "train_data = train_data[:int(len(train_data)/5)]\n",
    "\n",
    "train_data"
   ]
  },
  {
   "cell_type": "code",
   "execution_count": 20,
   "metadata": {},
   "outputs": [
    {
     "output_type": "stream",
     "name": "stdout",
     "text": [
      "------------svm------------ 0 1\n",
      "0\n",
      "5.188998460769653\n",
      "------------svm------------ 0 2\n",
      "0\n",
      "11.514792919158936\n",
      "------------svm------------ 0 3\n",
      "0\n",
      "18.2648286819458\n",
      "------------svm------------ 0 4\n",
      "0\n",
      "24.259828329086304\n",
      "------------svm------------ 0 5\n",
      "0\n",
      "29.937828302383423\n",
      "------------svm------------ 0 6\n",
      "0\n",
      "37.76005983352661\n",
      "------------svm------------ 0 7\n",
      "0\n",
      "42.84405851364136\n",
      "------------svm------------ 0 8\n",
      "0\n",
      "49.49205994606018\n",
      "------------svm------------ 0 9\n",
      "0\n",
      "54.69030451774597\n",
      "------------svm------------ 1 2\n",
      "0\n",
      "60.339306592941284\n",
      "------------svm------------ 1 3\n",
      "0\n",
      "66.4713044166565\n",
      "------------svm------------ 1 4\n",
      "0\n",
      "72.57662677764893\n",
      "------------svm------------ 1 5\n",
      "0\n",
      "78.3366596698761\n",
      "------------svm------------ 1 6\n",
      "0\n",
      "84.31562829017639\n",
      "------------svm------------ 1 7\n",
      "0\n",
      "89.94563007354736\n",
      "------------svm------------ 1 8\n",
      "0\n",
      "96.44270634651184\n",
      "------------svm------------ 1 9\n",
      "0\n",
      "101.92870283126831\n",
      "------------svm------------ 2 3\n",
      "0\n",
      "108.70074105262756\n",
      "------------svm------------ 2 4\n",
      "0\n",
      "118.55525183677673\n",
      "------------svm------------ 2 5\n",
      "0\n",
      "124.74621987342834\n",
      "------------svm------------ 2 6\n",
      "0\n",
      "134.41588377952576\n",
      "------------svm------------ 2 7\n",
      "0\n",
      "140.03187704086304\n",
      "------------svm------------ 2 8\n",
      "0\n",
      "147.7998344898224\n",
      "------------svm------------ 2 9\n",
      "0\n",
      "153.74269366264343\n",
      "------------svm------------ 3 4\n",
      "0\n",
      "160.37266516685486\n",
      "------------svm------------ 3 5\n",
      "0\n",
      "166.66866183280945\n",
      "------------svm------------ 3 6\n",
      "0\n",
      "174.29042983055115\n",
      "------------svm------------ 3 7\n",
      "0\n",
      "179.8714256286621\n",
      "------------svm------------ 3 8\n",
      "0\n",
      "186.82147240638733\n",
      "------------svm------------ 3 9\n",
      "0\n",
      "192.3615424633026\n",
      "------------svm------------ 4 5\n",
      "0\n",
      "198.24558019638062\n",
      "------------svm------------ 4 6\n",
      "0\n",
      "207.87258172035217\n",
      "------------svm------------ 4 7\n",
      "0\n",
      "213.20802426338196\n",
      "------------svm------------ 4 8\n",
      "0\n",
      "220.29699110984802\n",
      "------------svm------------ 4 9\n",
      "0\n",
      "225.79998803138733\n",
      "------------svm------------ 5 6\n",
      "0\n",
      "231.99738907814026\n",
      "------------svm------------ 5 7\n",
      "0\n",
      "238.92242407798767\n",
      "------------svm------------ 5 8\n",
      "0\n",
      "246.77438163757324\n",
      "------------svm------------ 5 9\n",
      "0\n",
      "253.12485027313232\n",
      "------------svm------------ 6 7\n",
      "0\n",
      "259.25588488578796\n",
      "------------svm------------ 6 8\n",
      "0\n",
      "267.4241337776184\n",
      "------------svm------------ 6 9\n",
      "0\n",
      "273.2702615261078\n",
      "------------svm------------ 7 8\n",
      "0\n",
      "279.7936508655548\n",
      "------------svm------------ 7 9\n",
      "0\n",
      "285.7086572647095\n",
      "------------svm------------ 8 9\n",
      "0\n",
      "293.0635805130005\n"
     ]
    }
   ],
   "source": [
    "total_classes = 10\n",
    "svm = [[None for j in range(total_classes)] for i in range(total_classes)]\n",
    "\n",
    "import time\n",
    "t0 = time.time()\n",
    "\n",
    "for i in range(total_classes):\n",
    "    for j in range(i+1, total_classes):\n",
    "        print(\"------------svm------------\", i, j)\n",
    "        svm[i][j] = SVMBinaryClassifier(get_class_data(train_data, i, j), 1, 0.05)\n",
    "        svm[i][j].train()\n",
    "        t1 = time.time()\n",
    "        print(t1 - t0)"
   ]
  },
  {
   "cell_type": "code",
   "execution_count": 67,
   "metadata": {},
   "outputs": [
    {
     "output_type": "stream",
     "name": "stdout",
     "text": [
      "400\n",
      "0\n",
      "50\n",
      "100\n",
      "150\n",
      "200\n",
      "250\n",
      "300\n",
      "350\n"
     ]
    }
   ],
   "source": [
    "m_test, x_test, y_test = extract_data(test_data[:400])\n",
    "\n",
    "print(m_test)\n",
    "\n",
    "flag = False\n",
    "test_predictions = np.zeros(m_test, np.int)\n",
    "\n",
    "for t in range(m_test):\n",
    "    if t % 50 == 0:\n",
    "        print(t)\n",
    "    votes = np.zeros(10, np.int)\n",
    "    for i in range(total_classes):\n",
    "        for j in range(i+1, total_classes):\n",
    "            p = svm[i][j].predict(x_test[t])\n",
    "            if p < 0:\n",
    "                votes[i] += 1\n",
    "            else:\n",
    "                votes[j] += 1\n",
    "    test_predictions[t] = np.argmax(votes)\n",
    "\n",
    "# print(y_test[5], svm[4][6].predict(x_test[5]))"
   ]
  },
  {
   "cell_type": "code",
   "execution_count": 69,
   "metadata": {},
   "outputs": [
    {
     "output_type": "execute_result",
     "data": {
      "text/plain": [
       "0.815"
      ]
     },
     "metadata": {},
     "execution_count": 69
    }
   ],
   "source": [
    "ff = (test_predictions == y_test.T)[0]\n",
    "np.sum(ff) / 400"
   ]
  },
  {
   "cell_type": "code",
   "execution_count": 70,
   "metadata": {},
   "outputs": [
    {
     "output_type": "execute_result",
     "data": {
      "text/plain": [
       "False"
      ]
     },
     "metadata": {},
     "execution_count": 70
    }
   ],
   "source": [
    "flag"
   ]
  },
  {
   "cell_type": "code",
   "execution_count": 72,
   "metadata": {},
   "outputs": [
    {
     "output_type": "stream",
     "name": "stdout",
     "text": [
      "[[31  0  0  2  0  0  4  0  0  0]\n [ 0 41  0  0  0  0  0  0  0  0]\n [ 1  0 27  0  2  0  3  0  0  0]\n [ 1  3  1 38  2  0  2  0  0  0]\n [ 0  0  7  0 25  0  4  0  0  0]\n [ 0  0  0  0  0 37  0  1  1  3]\n [11  0  6  3  1  0 22  0  1  0]\n [ 0  0  0  0  0  3  0 29  0  1]\n [ 2  0  2  1  0  1  0  0 36  1]\n [ 0  0  0  0  0  1  0  3  0 40]]\n"
     ]
    }
   ],
   "source": [
    "# confusion matrix\n",
    "confusion_matrix = np.zeros((10, 10), np.int)\n",
    "\n",
    "for i in range(m_test):\n",
    "    confusion_matrix[test_predictions[i]][int(y_test[i])] += 1\n",
    "\n",
    "print(confusion_matrix)"
   ]
  },
  {
   "cell_type": "code",
   "execution_count": 78,
   "metadata": {},
   "outputs": [
    {
     "output_type": "execute_result",
     "data": {
      "text/plain": [
       "(3600, 785)"
      ]
     },
     "metadata": {},
     "execution_count": 78
    }
   ],
   "source": [
    "train_data_2 = train_data[:int(len(train_data)/5)]\n",
    "rr = np.split(train_data_2, [int(len(train_data_2)/5)])\n",
    "# rr[0].shape\n",
    "rr[1].shape"
   ]
  },
  {
   "cell_type": "code",
   "execution_count": 101,
   "metadata": {},
   "outputs": [
    {
     "output_type": "stream",
     "name": "stdout",
     "text": [
      "C 0.001\n",
      "acc 0.001 0.09777777777777778\n",
      "C 1\n",
      "acc 1 0.76\n",
      "C 5\n",
      "acc 5 0.7511111111111111\n",
      "C 10\n",
      "acc 10 0.7511111111111111\n"
     ]
    }
   ],
   "source": [
    "# Validation\n",
    "\n",
    "train_data = np.genfromtxt(train_file, delimiter=',')\n",
    "\n",
    "train_data_2 = train_data[:int(len(train_data)/20)]\n",
    "train_data_split = np.split(train_data_2, [int(len(train_data_2)/5)])\n",
    "val_set_data = train_data_split[0]\n",
    "train_set_data = train_data_split[1]\n",
    "\n",
    "m_val, x_val, y_val = extract_data(val_set_data)\n",
    "\n",
    "for C in [1e-3, 1, 5, 10]:\n",
    "    print(\"C\", C)\n",
    "    svm = [[None for j in range(total_classes)] for i in range(total_classes)]\n",
    "    for i in range(total_classes):\n",
    "        for j in range(i+1, total_classes):\n",
    "            # print(\"------------svm------------\", i, j)\n",
    "            svm[i][j] = SVMBinaryClassifier(get_class_data(train_set_data, i, j), C, 0.05)\n",
    "            svm[i][j].train()\n",
    "\n",
    "\n",
    "    val_predictions = np.zeros(m_val, np.int)\n",
    "\n",
    "    for t in range(m_val):\n",
    "        votes = np.zeros(10, np.int)\n",
    "        for i in range(total_classes):\n",
    "            for j in range(i+1, total_classes):\n",
    "                p = svm[i][j].predict(x_val[t])\n",
    "                if p < 0:\n",
    "                    votes[i] += 1\n",
    "                else:\n",
    "                    votes[j] += 1\n",
    "        val_predictions[t] = np.argmax(votes)\n",
    "\n",
    "    # print(val_predictions, y_val.T, (val_predictions == y_val.T[0]))\n",
    "    # acc = sum(indicator(val_predictions[p] == y_val[p]) for p in range(m_val)) / m_val\n",
    "    acc = np.sum((val_predictions == y_val.T)[0]) / m_val\n",
    "    print(\"acc\", C, acc)\n",
    "\n",
    "# print(val_data.shape, train_data.shape)"
   ]
  },
  {
   "cell_type": "code",
   "execution_count": 107,
   "metadata": {},
   "outputs": [
    {
     "output_type": "stream",
     "name": "stdout",
     "text": [
      "C 0.001\n",
      "acc 0.001 0.09777777777777778\n",
      "C 1\n",
      "acc 1 0.76\n",
      "C 5\n",
      "acc 5 0.7511111111111111\n",
      "C 10\n",
      "acc 10 0.7511111111111111\n"
     ]
    }
   ],
   "source": [
    "# Validation\n",
    "\n",
    "train_data = np.genfromtxt(train_file, delimiter=',')\n",
    "\n",
    "train_data_2 = train_data[:int(len(train_data)/20)]\n",
    "train_data_split = np.split(train_data_2, [int(len(train_data_2)/5)])\n",
    "val_set_data = train_data_split[0]\n",
    "train_set_data = train_data_split[1]\n",
    "\n",
    "m_val, x_val, y_val = extract_data(val_set_data)\n",
    "\n",
    "for C in [1e-3, 1, 5, 10]:\n",
    "    print(\"C\", C)\n",
    "    svm_multi = SVMMultiClassifier(10, train_set_data, C, 0.05)\n",
    "    # print(svm_multi.get_svms())\n",
    "    svm_multi.train()\n",
    "\n",
    "    val_predictions = np.zeros(m_val, np.int)\n",
    "\n",
    "    for t in range(m_val):\n",
    "        val_predictions[t] = svm_multi.predict(x_val[t])\n",
    "\n",
    "    # print(val_predictions, y_val.T, (val_predictions == y_val.T[0]))\n",
    "    # acc = sum(indicator(val_predictions[p] == y_val[p]) for p in range(m_val)) / m_val\n",
    "    acc = np.sum((val_predictions == y_val.T)[0]) / m_val\n",
    "    print(\"acc\", C, acc)\n",
    "\n",
    "# print(val_data.shape, train_data.shape)"
   ]
  }
 ]
}