{
 "metadata": {
  "language_info": {
   "codemirror_mode": {
    "name": "ipython",
    "version": 3
   },
   "file_extension": ".py",
   "mimetype": "text/x-python",
   "name": "python",
   "nbconvert_exporter": "python",
   "pygments_lexer": "ipython3",
   "version": "3.8.5-final"
  },
  "orig_nbformat": 2,
  "kernelspec": {
   "name": "python3",
   "display_name": "Python 3.8.5 64-bit (conda)",
   "metadata": {
    "interpreter": {
     "hash": "3b97f6205e13cf85ea01e4081d87b6f06bf272a6e460f325999b991fb6c68282"
    }
   }
  }
 },
 "nbformat": 4,
 "nbformat_minor": 2,
 "cells": [
  {
   "cell_type": "code",
   "execution_count": 1,
   "metadata": {},
   "outputs": [],
   "source": [
    "import numpy as np\n",
    "from sklearn.ensemble import RandomForestClassifier"
   ]
  },
  {
   "cell_type": "code",
   "execution_count": 2,
   "metadata": {},
   "outputs": [],
   "source": [
    "# load data\n",
    "train_file = \"C:/IITD/sem5/col774-ml/datasets/decision_tree/decision_tree/train.csv\"\n",
    "test_file = \"C:/IITD/sem5/col774-ml/datasets/decision_tree/decision_tree/test.csv\"\n",
    "val_file = \"C:/IITD/sem5/col774-ml/datasets/decision_tree/decision_tree/val.csv\"\n",
    "train_data = np.genfromtxt(train_file, delimiter=',')\n",
    "test_data = np.genfromtxt(test_file, delimiter=',')\n",
    "val_data = np.genfromtxt(val_file, delimiter=',')"
   ]
  },
  {
   "cell_type": "code",
   "execution_count": 3,
   "metadata": {},
   "outputs": [],
   "source": [
    "def extract_data(data):\n",
    "    x = data[:, :-1]\n",
    "    y = data[:, -1].astype('int')\n",
    "    return x, y"
   ]
  },
  {
   "cell_type": "code",
   "execution_count": 4,
   "metadata": {},
   "outputs": [],
   "source": [
    "train_data = train_data[2:, :]\n",
    "x, y = extract_data(train_data)\n",
    "num_attributes = x.shape[1]\n",
    "num_labels = 7"
   ]
  },
  {
   "cell_type": "code",
   "execution_count": 7,
   "metadata": {},
   "outputs": [
    {
     "output_type": "execute_result",
     "data": {
      "text/plain": [
       "RandomForestClassifier(max_depth=20, n_jobs=-1, oob_score=True)"
      ]
     },
     "metadata": {},
     "execution_count": 7
    }
   ],
   "source": [
    "clf = RandomForestClassifier(max_depth=20, oob_score=True, n_jobs=-1)\n",
    "clf.fit(x, y)"
   ]
  },
  {
   "cell_type": "code",
   "execution_count": 8,
   "metadata": {},
   "outputs": [
    {
     "output_type": "execute_result",
     "data": {
      "text/plain": [
       "0.8858517855298047"
      ]
     },
     "metadata": {},
     "execution_count": 8
    }
   ],
   "source": [
    "x_test, y_test = extract_data(test_data[2:])\n",
    "\n",
    "np.sum(clf.predict(x_test) == y_test) / y_test.size"
   ]
  },
  {
   "cell_type": "code",
   "execution_count": 9,
   "metadata": {},
   "outputs": [
    {
     "output_type": "execute_result",
     "data": {
      "text/plain": [
       "{'n_estimators': [50, 150, 250, 350],\n",
       " 'max_features': [0.1,\n",
       "  0.30000000000000004,\n",
       "  0.5000000000000001,\n",
       "  0.7000000000000001,\n",
       "  0.9000000000000001],\n",
       " 'min_samples_split': [2, 4, 6, 8]}"
      ]
     },
     "metadata": {},
     "execution_count": 9
    }
   ],
   "source": [
    "parameters = {\n",
    "    'n_estimators': list(np.arange(50, 450, 100)),\n",
    "    'max_features': list(np.arange(0.1, 1, 0.2)),\n",
    "    'min_samples_split': list(np.arange(2, 10, 2))\n",
    "    }\n",
    "\n",
    "parameters"
   ]
  },
  {
   "cell_type": "code",
   "execution_count": 10,
   "metadata": {},
   "outputs": [
    {
     "output_type": "stream",
     "name": "stdout",
     "text": [
      "Fitting 3 folds for each of 80 candidates, totalling 240 fits\n",
      "[Parallel(n_jobs=-1)]: Using backend LokyBackend with 8 concurrent workers.\n"
     ]
    }
   ],
   "source": [
    "from sklearn.model_selection import GridSearchCV\n",
    "clf = RandomForestClassifier(max_depth=10, oob_score=True, n_jobs=-1)\n",
    "\n",
    "gs_clf = GridSearchCV(clf, parameters, cv=3, n_jobs=-1, verbose=1)\n",
    "gs_clf.fit(x, y)"
   ]
  },
  {
   "cell_type": "code",
   "execution_count": 11,
   "metadata": {},
   "outputs": [
    {
     "output_type": "error",
     "ename": "NameError",
     "evalue": "name 'gs_clf' is not defined",
     "traceback": [
      "\u001b[1;31m---------------------------------------------------------------------------\u001b[0m",
      "\u001b[1;31mNameError\u001b[0m                                 Traceback (most recent call last)",
      "\u001b[1;32m<ipython-input-11-515927f4a485>\u001b[0m in \u001b[0;36m<module>\u001b[1;34m\u001b[0m\n\u001b[1;32m----> 1\u001b[1;33m \u001b[0mgs_clf\u001b[0m\u001b[1;33m\u001b[0m\u001b[1;33m\u001b[0m\u001b[0m\n\u001b[0m",
      "\u001b[1;31mNameError\u001b[0m: name 'gs_clf' is not defined"
     ]
    }
   ],
   "source": [
    "gs_clf"
   ]
  }
 ]
}