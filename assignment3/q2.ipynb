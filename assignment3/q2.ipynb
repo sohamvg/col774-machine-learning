{
 "metadata": {
  "language_info": {
   "codemirror_mode": {
    "name": "ipython",
    "version": 3
   },
   "file_extension": ".py",
   "mimetype": "text/x-python",
   "name": "python",
   "nbconvert_exporter": "python",
   "pygments_lexer": "ipython3",
   "version": "3.8.5-final"
  },
  "orig_nbformat": 2,
  "kernelspec": {
   "name": "python3",
   "display_name": "Python 3.8.5 64-bit (conda)",
   "metadata": {
    "interpreter": {
     "hash": "3b97f6205e13cf85ea01e4081d87b6f06bf272a6e460f325999b991fb6c68282"
    }
   }
  }
 },
 "nbformat": 4,
 "nbformat_minor": 2,
 "cells": [
  {
   "cell_type": "code",
   "execution_count": 1,
   "metadata": {},
   "outputs": [],
   "source": [
    "import numpy as np"
   ]
  },
  {
   "cell_type": "code",
   "execution_count": 2,
   "metadata": {},
   "outputs": [],
   "source": [
    "M = 1\n",
    "n = 2\n",
    "hidden_layers = [3, 4]\n",
    "r = 5"
   ]
  },
  {
   "cell_type": "code",
   "execution_count": 3,
   "metadata": {},
   "outputs": [],
   "source": [
    "layers = hidden_layers.copy()\n",
    "layers.append(r)"
   ]
  },
  {
   "cell_type": "code",
   "execution_count": 4,
   "metadata": {},
   "outputs": [
    {
     "output_type": "execute_result",
     "data": {
      "text/plain": [
       "[array([[0.66993046, 0.81237917, 0.32762549],\n",
       "        [0.10622127, 0.54897836, 0.53277739],\n",
       "        [0.99417665, 0.1303899 , 0.19191024]]),\n",
       " array([[0.64338019, 0.06104403, 0.67113185, 0.15961529],\n",
       "        [0.7199103 , 0.78362802, 0.34816173, 0.65495194],\n",
       "        [0.92492762, 0.02185292, 0.67188483, 0.49195034],\n",
       "        [0.12195232, 0.25909034, 0.01533174, 0.46928863]]),\n",
       " array([[0.77208029, 0.80606968, 0.35876049, 0.2494233 , 0.62929748],\n",
       "        [0.33433682, 0.44184054, 0.70562193, 0.11942334, 0.76917973],\n",
       "        [0.85987746, 0.97256018, 0.84321174, 0.59473501, 0.05751535],\n",
       "        [0.20367992, 0.56312586, 0.47530998, 0.7526102 , 0.87790075],\n",
       "        [0.10480344, 0.82571653, 0.89567361, 0.43245752, 0.79358422]])]"
      ]
     },
     "metadata": {},
     "execution_count": 4
    }
   ],
   "source": [
    "theta = [np.random.rand(layers[0], n+1)] + [np.random.rand(layers[l], layers[l-1]+1) for l in range(1, len(layers))]\n",
    "theta"
   ]
  },
  {
   "cell_type": "code",
   "execution_count": 5,
   "metadata": {},
   "outputs": [
    {
     "output_type": "execute_result",
     "data": {
      "text/plain": [
       "0.24942329872372193"
      ]
     },
     "metadata": {},
     "execution_count": 5
    }
   ],
   "source": [
    "theta[2][0, 3]"
   ]
  },
  {
   "cell_type": "code",
   "execution_count": 6,
   "metadata": {},
   "outputs": [],
   "source": [
    "def g(z):\n",
    "    \"\"\"\n",
    "        sigmoid(z)\n",
    "    \"\"\"\n",
    "    return 1/(1 + np.exp(-z))"
   ]
  },
  {
   "cell_type": "code",
   "execution_count": 43,
   "metadata": {},
   "outputs": [
    {
     "output_type": "stream",
     "name": "stdout",
     "text": [
      "[0.44481271 0.61612297] [1.         0.44481271 0.61612297] [0 1 0 0 0]\n"
     ]
    }
   ],
   "source": [
    "x = np.random.rand(n)\n",
    "y = np.array([0, 1, 0, 0, 0])\n",
    "print(x, np.hstack((np.ones(1), x)), y)"
   ]
  },
  {
   "cell_type": "code",
   "execution_count": 24,
   "metadata": {},
   "outputs": [
    {
     "output_type": "execute_result",
     "data": {
      "text/plain": [
       "array([[0.66993046, 0.81237917, 0.32762549],\n",
       "       [0.10622127, 0.54897836, 0.53277739],\n",
       "       [0.99417665, 0.1303899 , 0.19191024]])"
      ]
     },
     "metadata": {},
     "execution_count": 24
    }
   ],
   "source": [
    "theta[0]"
   ]
  },
  {
   "cell_type": "code",
   "execution_count": 23,
   "metadata": {},
   "outputs": [
    {
     "output_type": "execute_result",
     "data": {
      "text/plain": [
       "array([0.73306272, 0.73306272])"
      ]
     },
     "metadata": {},
     "execution_count": 23
    }
   ],
   "source": [
    "netj0 = np.dot(theta[0][0].T, np.hstack((np.ones(1), x)))\n",
    "oj0 = g(np.array([netj0, netj0]))\n",
    "oj0"
   ]
  },
  {
   "cell_type": "code",
   "execution_count": 76,
   "metadata": {},
   "outputs": [
    {
     "output_type": "stream",
     "name": "stdout",
     "text": [
      "[3, 4, 5] [array([0., 0., 0.]), array([0., 0., 0., 0.]), array([0., 0., 0., 0., 0.])] [array([0., 0., 0.]), array([0., 0., 0., 0.]), array([0., 0., 0., 0., 0.])]\n"
     ]
    }
   ],
   "source": [
    "o = [np.zeros(l) for l in layers]\n",
    "deltas = [np.zeros(l) for l in layers]\n",
    "print(layers, o, deltas)"
   ]
  },
  {
   "cell_type": "code",
   "execution_count": 77,
   "metadata": {},
   "outputs": [],
   "source": [
    "def netj(theta_j, x_j):\n",
    "    return np.dot(theta_j.T, x_j)"
   ]
  },
  {
   "cell_type": "code",
   "execution_count": 78,
   "metadata": {},
   "outputs": [
    {
     "output_type": "stream",
     "name": "stdout",
     "text": [
      "0 0 [0.66993046 0.81237917 0.32762549]\n1.2331446250131672\n0.7743684832384804\n0 1 [0.10622127 0.54897836 0.53277739]\n0.6786702067561584\n0.6634418367360676\n0 2 [0.99417665 0.1303899  0.19191024]\n1.1704160440643483\n0.7632202094139003\n1 0 [0.64338019 0.06104403 0.67113185 0.15961529]\n1 1 [0.7199103  0.78362802 0.34816173 0.65495194]\n1 2 [0.92492762 0.02185292 0.67188483 0.49195034]\n1 3 [0.12195232 0.25909034 0.01533174 0.46928863]\n2 0 [0.77135072 0.8055044  0.35811692 0.24880255 0.6288136 ]\n2 1 [0.33448152 0.44195265 0.70574957 0.11954646 0.7692757 ]\n2 2 [0.85940946 0.97219757 0.84279891 0.59433681 0.05720495]\n2 3 [0.20291725 0.56253493 0.47463722 0.75196129 0.87739491]\n2 4 [0.10411941 0.82518654 0.89507022 0.43187552 0.79313054]\n"
     ]
    },
    {
     "output_type": "execute_result",
     "data": {
      "text/plain": [
       "[array([0.77436848, 0.66344184, 0.76322021]),\n",
       " array([0.77863498, 0.88671178, 0.85359409, 0.66617289]),\n",
       " array([0.91272464, 0.87201712, 0.94829676, 0.90789165, 0.91962895])]"
      ]
     },
     "metadata": {},
     "execution_count": 78
    }
   ],
   "source": [
    "# forward propagation\n",
    "\n",
    "for l in range(len(layers)):\n",
    "    for j in range(layers[l]):\n",
    "        print(l, j, theta[l][j])\n",
    "        if l == 0:\n",
    "            print(netj(theta[l][j], np.hstack((np.ones(1), x))))\n",
    "            o[l][j] = g(netj(theta[l][j], np.hstack((np.ones(1), x))))\n",
    "            print(o[l][j])\n",
    "        else:\n",
    "            o[l][j] = g(netj(theta[l][j], np.hstack((np.ones(1), o[l-1]))))\n",
    "\n",
    "o"
   ]
  },
  {
   "cell_type": "code",
   "execution_count": 91,
   "metadata": {},
   "outputs": [
    {
     "output_type": "stream",
     "name": "stdout",
     "text": [
      "[-0.07270616  0.01428331 -0.04649501 -0.0759219  -0.0679712 ]\n[0.07270616 0.05661156 0.06446941 0.06206155 0.04843487]\n1 0 [0, 1, 2, 3, 4]\n1 1 [0, 1, 2, 3, 4]\n1 2 [0, 1, 2, 3, 4]\n1 3 [0, 1, 2, 3, 4]\n0 0 [0, 1, 2, 3]\n0 1 [0, 1, 2, 3]\n0 2 [0, 1, 2, 3]\n"
     ]
    }
   ],
   "source": [
    "# back propagation\n",
    "\n",
    "# output layer\n",
    "output_layer = -1\n",
    "delta = (y - o[output_layer]) * o[output_layer] * (1 - o[output_layer])\n",
    "deltas[output_layer] = delta\n",
    "\n",
    "print(delta)\n",
    "\n",
    "j = 0\n",
    "k = 0\n",
    "J_theta_derivative = -delta[j] * np.hstack((np.ones(1), o[output_layer - 1]))\n",
    "print(J_theta_derivative)\n",
    "\n",
    "learning_rate = 0.01\n",
    "\n",
    "# x_j = np.hstack((np.ones(1), o[output_layer - 1]))\n",
    "# for j in range(layers[output_layer]):\n",
    "#     J_theta_derivative = -delta[j] * x_j\n",
    "#     print(j, theta[output_layer][j], theta[output_layer][j] - (learning_rate * J_theta_derivative))\n",
    "#     theta[output_layer][j] = theta[output_layer][j] - (learning_rate * J_theta_derivative)\n",
    "\n",
    "\n",
    "# hidden layers\n",
    "\n",
    "for l in reversed(range(len(hidden_layers))):\n",
    "    for j in range(hidden_layers[l]):\n",
    "        print(l, j, list(range(layers[l+1])))\n",
    "        deltas[l][j] = sum(deltas[l+1][dwn_nbr] * theta[l+1][dwn_nbr, j] * o[l][j] * (1 - o[l][j]) for dwn_nbr in range(layers[l+1]))"
   ]
  },
  {
   "cell_type": "code",
   "execution_count": 92,
   "metadata": {},
   "outputs": [
    {
     "output_type": "execute_result",
     "data": {
      "text/plain": [
       "[array([-0.00835354, -0.00547791, -0.00599095]),\n",
       " array([-0.01954332, -0.01968614, -0.0189578 , -0.02894432]),\n",
       " array([-0.07270616,  0.01428331, -0.04649501, -0.0759219 , -0.0679712 ])]"
      ]
     },
     "metadata": {},
     "execution_count": 92
    }
   ],
   "source": [
    "deltas"
   ]
  },
  {
   "cell_type": "code",
   "execution_count": 94,
   "metadata": {},
   "outputs": [
    {
     "output_type": "execute_result",
     "data": {
      "text/plain": [
       "[array([[0.66993046, 0.81237917, 0.32762549],\n",
       "        [0.10622127, 0.54897836, 0.53277739],\n",
       "        [0.99417665, 0.1303899 , 0.19191024]]),\n",
       " array([[0.64338019, 0.06104403, 0.67113185, 0.15961529],\n",
       "        [0.7199103 , 0.78362802, 0.34816173, 0.65495194],\n",
       "        [0.92492762, 0.02185292, 0.67188483, 0.49195034],\n",
       "        [0.12195232, 0.25909034, 0.01533174, 0.46928863]]),\n",
       " array([[0.76989659, 0.80437217, 0.35682753, 0.24756132, 0.6278449 ],\n",
       "        [0.33476718, 0.44217508, 0.70600288, 0.1197903 , 0.769466  ],\n",
       "        [0.85847956, 0.97147352, 0.84197435, 0.59354306, 0.05658547],\n",
       "        [0.20139882, 0.56135262, 0.4732908 , 0.75066516, 0.87638337],\n",
       "        [0.10275998, 0.82412804, 0.8938648 , 0.43071512, 0.79222493]])]"
      ]
     },
     "metadata": {},
     "execution_count": 94
    }
   ],
   "source": [
    "theta"
   ]
  },
  {
   "cell_type": "code",
   "execution_count": 96,
   "metadata": {},
   "outputs": [
    {
     "output_type": "stream",
     "name": "stdout",
     "text": [
      "0\n[1.         0.44481271 0.61612297]\n1\n[1.         0.77436848 0.66344184 0.76322021]\n2\n[1.         0.77863498 0.88671178 0.85359409 0.66617289]\n"
     ]
    }
   ],
   "source": [
    "# update theta\n",
    "\n",
    "for l in range(len(layers)):\n",
    "    print(l)\n",
    "    if l == 0:\n",
    "        x_j = np.hstack((np.ones(1), x))\n",
    "    else:\n",
    "        x_j = np.hstack((np.ones(1), o[l-1]))\n",
    "    print(x_j)\n",
    "    for j in range(layers[l]):\n",
    "        J_theta_derivative = - deltas[l][j] * x_j\n",
    "        theta[l][j] = theta[l][j] - (learning_rate * J_theta_derivative)"
   ]
  },
  {
   "cell_type": "code",
   "execution_count": 97,
   "metadata": {},
   "outputs": [
    {
     "output_type": "execute_result",
     "data": {
      "text/plain": [
       "[array([[0.66984692, 0.81234201, 0.32757402],\n",
       "        [0.10616649, 0.548954  , 0.53274364],\n",
       "        [0.99411674, 0.13036326, 0.19187333]]),\n",
       " array([[0.64318476, 0.06089269, 0.67100219, 0.15946613],\n",
       "        [0.71971344, 0.78347558, 0.34803112, 0.65480169],\n",
       "        [0.92473804, 0.02170612, 0.67175905, 0.49180565],\n",
       "        [0.12166288, 0.2588662 , 0.01513971, 0.46906772]]),\n",
       " array([[0.76916953, 0.80380606, 0.35618284, 0.24694071, 0.62736056],\n",
       "        [0.33491002, 0.44228629, 0.70612953, 0.11991222, 0.76956115],\n",
       "        [0.85801461, 0.97111149, 0.84156208, 0.59314618, 0.05627574],\n",
       "        [0.2006396 , 0.56076147, 0.47261759, 0.75001709, 0.8758776 ],\n",
       "        [0.10208027, 0.82359879, 0.89326209, 0.43013492, 0.79177212]])]"
      ]
     },
     "metadata": {},
     "execution_count": 97
    }
   ],
   "source": [
    "theta"
   ]
  }
 ]
}