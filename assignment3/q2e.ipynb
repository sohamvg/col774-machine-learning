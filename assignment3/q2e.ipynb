{
 "metadata": {
  "language_info": {
   "codemirror_mode": {
    "name": "ipython",
    "version": 3
   },
   "file_extension": ".py",
   "mimetype": "text/x-python",
   "name": "python",
   "nbconvert_exporter": "python",
   "pygments_lexer": "ipython3",
   "version": "3.8.5-final"
  },
  "orig_nbformat": 2,
  "kernelspec": {
   "name": "python3",
   "display_name": "Python 3.8.5 64-bit (conda)",
   "metadata": {
    "interpreter": {
     "hash": "3b97f6205e13cf85ea01e4081d87b6f06bf272a6e460f325999b991fb6c68282"
    }
   }
  }
 },
 "nbformat": 4,
 "nbformat_minor": 2,
 "cells": [
  {
   "cell_type": "code",
   "execution_count": 1,
   "metadata": {},
   "outputs": [],
   "source": [
    "import numpy as np"
   ]
  },
  {
   "cell_type": "code",
   "execution_count": 21,
   "metadata": {},
   "outputs": [],
   "source": [
    "X_train_file = \"C:/IITD/sem5/col774-ml/datasets/kannada_digits/neural_network_kannada/X_train.npy\"\n",
    "y_train_file = \"C:/IITD/sem5/col774-ml/datasets/kannada_digits/neural_network_kannada/y_train.npy\"\n",
    "X_test_file = \"C:/IITD/sem5/col774-ml/datasets/kannada_digits/neural_network_kannada/X_test.npy\"\n",
    "y_test_file = \"C:/IITD/sem5/col774-ml/datasets/kannada_digits/neural_network_kannada/y_test.npy\"\n",
    "\n",
    "X_train, y_train = np.load(X_train_file), np.load(y_train_file)\n",
    "X_test, y_test = np.load(X_test_file), np.load(y_test_file)"
   ]
  },
  {
   "cell_type": "code",
   "execution_count": 31,
   "metadata": {},
   "outputs": [],
   "source": [
    "from sklearn.neural_network import MLPClassifier\n",
    "\n",
    "clf = MLPClassifier(hidden_layer_sizes=(100,100), activation=\"relu\", solver='sgd', learning_rate_init=0.5, verbose=1)"
   ]
  },
  {
   "cell_type": "code",
   "execution_count": 22,
   "metadata": {},
   "outputs": [],
   "source": [
    "m = X_train.shape[0]\n",
    "n = 28 * 28\n",
    "\n",
    "X_train = X_train.reshape((m, n)) # reshape\n",
    "X_train = X_train / 255 # scale to 0-1"
   ]
  },
  {
   "cell_type": "code",
   "execution_count": 32,
   "metadata": {},
   "outputs": [
    {
     "output_type": "stream",
     "name": "stdout",
     "text": [
      "Iteration 1, loss = 0.21096597\n",
      "Iteration 2, loss = 0.07087537\n",
      "Iteration 3, loss = 0.05243751\n",
      "Iteration 4, loss = 0.04505519\n",
      "Iteration 5, loss = 0.03923756\n",
      "Iteration 6, loss = 0.03433866\n",
      "Iteration 7, loss = 0.02989611\n",
      "Iteration 8, loss = 0.02845359\n",
      "Iteration 9, loss = 0.02511813\n",
      "Iteration 10, loss = 0.03274853\n",
      "Iteration 11, loss = 0.02507098\n",
      "Iteration 12, loss = 0.02530464\n",
      "Iteration 13, loss = 0.01978187\n",
      "Iteration 14, loss = 0.01721359\n",
      "Iteration 15, loss = 0.01979713\n",
      "Iteration 16, loss = 0.01749674\n",
      "Iteration 17, loss = 0.01332921\n",
      "Iteration 18, loss = 0.01227658\n",
      "Iteration 19, loss = 0.01258173\n",
      "Iteration 20, loss = 0.01631110\n",
      "Iteration 21, loss = 0.01639528\n",
      "Iteration 22, loss = 0.01540767\n",
      "Iteration 23, loss = 0.02662502\n",
      "Iteration 24, loss = 0.02232638\n",
      "Iteration 25, loss = 0.02215703\n",
      "Iteration 26, loss = 0.01485049\n",
      "Iteration 27, loss = 0.01304204\n",
      "Iteration 28, loss = 0.01235829\n",
      "Iteration 29, loss = 0.01167105\n",
      "Iteration 30, loss = 0.01459793\n",
      "Iteration 31, loss = 0.01561340\n",
      "Iteration 32, loss = 0.01532177\n",
      "Iteration 33, loss = 0.02219272\n",
      "Iteration 34, loss = 0.01966098\n",
      "Iteration 35, loss = 0.01759440\n",
      "Iteration 36, loss = 0.02235555\n",
      "Iteration 37, loss = 0.02008826\n",
      "Iteration 38, loss = 0.02625257\n",
      "Iteration 39, loss = 0.03192471\n",
      "Iteration 40, loss = 0.02364289\n",
      "Training loss did not improve more than tol=0.000100 for 10 consecutive epochs. Stopping.\n"
     ]
    },
    {
     "output_type": "execute_result",
     "data": {
      "text/plain": [
       "MLPClassifier(hidden_layer_sizes=(100, 100), learning_rate_init=0.5,\n",
       "              solver='sgd', verbose=1)"
      ]
     },
     "metadata": {},
     "execution_count": 32
    }
   ],
   "source": [
    "clf.fit(X_train, y_train)"
   ]
  },
  {
   "cell_type": "code",
   "execution_count": 25,
   "metadata": {},
   "outputs": [],
   "source": [
    "m_test = X_test.shape[0]\n",
    "X_test = X_test.reshape((m_test, n)) # reshape\n",
    "X_test = X_test / 255 # scale to 0-1"
   ]
  },
  {
   "cell_type": "code",
   "execution_count": 28,
   "metadata": {},
   "outputs": [
    {
     "output_type": "stream",
     "name": "stdout",
     "text": [
      "Iteration 1, loss = 0.28427358\n",
      "Iteration 2, loss = 0.08572781\n",
      "Iteration 3, loss = 0.06139330\n",
      "Iteration 4, loss = 0.04596130\n",
      "Iteration 5, loss = 0.03566752\n",
      "Iteration 6, loss = 0.02905351\n",
      "Iteration 7, loss = 0.02258057\n",
      "Iteration 8, loss = 0.01981919\n",
      "Iteration 9, loss = 0.01483910\n"
     ]
    }
   ],
   "source": [
    "clf = MLPClassifier(random_state=1, max_iter=300, verbose=1, hidden_layer_sizes=(100,100)).fit(X_train, y_train)"
   ]
  },
  {
   "cell_type": "code",
   "execution_count": 33,
   "metadata": {},
   "outputs": [
    {
     "output_type": "execute_result",
     "data": {
      "text/plain": [
       "0.9334"
      ]
     },
     "metadata": {},
     "execution_count": 33
    }
   ],
   "source": [
    "clf.score(X_test, y_test)"
   ]
  }
 ]
}