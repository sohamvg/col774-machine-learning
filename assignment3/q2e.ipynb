{
 "metadata": {
  "language_info": {
   "codemirror_mode": {
    "name": "ipython",
    "version": 3
   },
   "file_extension": ".py",
   "mimetype": "text/x-python",
   "name": "python",
   "nbconvert_exporter": "python",
   "pygments_lexer": "ipython3",
   "version": "3.8.5-final"
  },
  "orig_nbformat": 2,
  "kernelspec": {
   "name": "python3",
   "display_name": "Python 3.8.5 64-bit (conda)",
   "metadata": {
    "interpreter": {
     "hash": "3b97f6205e13cf85ea01e4081d87b6f06bf272a6e460f325999b991fb6c68282"
    }
   }
  }
 },
 "nbformat": 4,
 "nbformat_minor": 2,
 "cells": [
  {
   "cell_type": "code",
   "execution_count": 16,
   "metadata": {},
   "outputs": [],
   "source": [
    "import numpy as np"
   ]
  },
  {
   "cell_type": "code",
   "execution_count": 17,
   "metadata": {},
   "outputs": [],
   "source": [
    "X_train_file = \"C:/IITD/sem5/col774-ml/datasets/kannada_digits/neural_network_kannada/X_train.npy\"\n",
    "y_train_file = \"C:/IITD/sem5/col774-ml/datasets/kannada_digits/neural_network_kannada/y_train.npy\"\n",
    "X_test_file = \"C:/IITD/sem5/col774-ml/datasets/kannada_digits/neural_network_kannada/X_test.npy\"\n",
    "y_test_file = \"C:/IITD/sem5/col774-ml/datasets/kannada_digits/neural_network_kannada/y_test.npy\"\n",
    "\n",
    "X_train, y_train = np.load(X_train_file), np.load(y_train_file)\n",
    "X_test, y_test = np.load(X_test_file), np.load(y_test_file)"
   ]
  },
  {
   "cell_type": "code",
   "execution_count": 18,
   "metadata": {},
   "outputs": [],
   "source": [
    "from sklearn.neural_network import MLPClassifier\n",
    "\n",
    "clf = MLPClassifier(hidden_layer_sizes=(100,100), activation=\"relu\", solver='sgd', learning_rate=\"adaptive\", verbose=1)"
   ]
  },
  {
   "cell_type": "code",
   "execution_count": 19,
   "metadata": {},
   "outputs": [],
   "source": [
    "m = X_train.shape[0]\n",
    "n = 28 * 28\n",
    "\n",
    "X_train = X_train.reshape((m, n)) # reshape\n",
    "X_train = X_train / 255 # scale to 0-1"
   ]
  },
  {
   "cell_type": "code",
   "execution_count": 20,
   "metadata": {},
   "outputs": [
    {
     "output_type": "stream",
     "name": "stdout",
     "text": [
      "Iteration 1, loss = 1.93234636\n",
      "Iteration 2, loss = 0.82567355\n",
      "Iteration 3, loss = 0.40841798\n",
      "Iteration 4, loss = 0.29952620\n",
      "Iteration 5, loss = 0.25129425\n",
      "Iteration 6, loss = 0.22355242\n",
      "Iteration 7, loss = 0.20473935\n",
      "Iteration 8, loss = 0.19104090\n",
      "Iteration 9, loss = 0.18025095\n",
      "Iteration 10, loss = 0.17144619\n",
      "Iteration 11, loss = 0.16395942\n",
      "Iteration 12, loss = 0.15772666\n",
      "Iteration 13, loss = 0.15226207\n",
      "Iteration 14, loss = 0.14735556\n",
      "Iteration 15, loss = 0.14311028\n",
      "Iteration 16, loss = 0.13929606\n",
      "Iteration 17, loss = 0.13569411\n",
      "Iteration 18, loss = 0.13255284\n",
      "Iteration 19, loss = 0.12970618\n",
      "Iteration 20, loss = 0.12701902\n",
      "Iteration 21, loss = 0.12455953\n",
      "Iteration 22, loss = 0.12226272\n",
      "Iteration 23, loss = 0.11996360\n",
      "Iteration 24, loss = 0.11800498\n",
      "Iteration 25, loss = 0.11610344\n",
      "Iteration 26, loss = 0.11430970\n",
      "Iteration 27, loss = 0.11251710\n",
      "Iteration 28, loss = 0.11089872\n",
      "Iteration 29, loss = 0.10931562\n",
      "Iteration 30, loss = 0.10787334\n",
      "Iteration 31, loss = 0.10642052\n",
      "Iteration 32, loss = 0.10503097\n",
      "Iteration 33, loss = 0.10372974\n",
      "Iteration 34, loss = 0.10239449\n",
      "Iteration 35, loss = 0.10109854\n",
      "Iteration 36, loss = 0.09991077\n",
      "Iteration 37, loss = 0.09868813\n",
      "Iteration 38, loss = 0.09766042\n",
      "Iteration 39, loss = 0.09648383\n",
      "Iteration 40, loss = 0.09533051\n",
      "Iteration 41, loss = 0.09436959\n",
      "Iteration 42, loss = 0.09331185\n",
      "Iteration 43, loss = 0.09225254\n",
      "Iteration 44, loss = 0.09129129\n",
      "Iteration 45, loss = 0.09029341\n",
      "Iteration 46, loss = 0.08940968\n",
      "Iteration 47, loss = 0.08845668\n",
      "Iteration 48, loss = 0.08761313\n",
      "Iteration 49, loss = 0.08666636\n"
     ]
    },
    {
     "output_type": "execute_result",
     "data": {
      "text/plain": [
       "MLPClassifier(hidden_layer_sizes=(100, 100), learning_rate='adaptive',\n",
       "              solver='sgd', verbose=1)"
      ]
     },
     "metadata": {},
     "execution_count": 20
    }
   ],
   "source": [
    "clf.fit(X_train, y_train)"
   ]
  },
  {
   "cell_type": "code",
   "execution_count": 10,
   "metadata": {},
   "outputs": [],
   "source": [
    "m_test = X_test.shape[0]\n",
    "X_test = X_test.reshape((m_test, n)) # reshape\n",
    "X_test = X_test / 255 # scale to 0-1"
   ]
  },
  {
   "cell_type": "code",
   "execution_count": 28,
   "metadata": {},
   "outputs": [
    {
     "output_type": "stream",
     "name": "stdout",
     "text": [
      "Iteration 1, loss = 0.28427358\n",
      "Iteration 2, loss = 0.08572781\n",
      "Iteration 3, loss = 0.06139330\n",
      "Iteration 4, loss = 0.04596130\n",
      "Iteration 5, loss = 0.03566752\n",
      "Iteration 6, loss = 0.02905351\n",
      "Iteration 7, loss = 0.02258057\n",
      "Iteration 8, loss = 0.01981919\n",
      "Iteration 9, loss = 0.01483910\n"
     ]
    }
   ],
   "source": [
    "clf = MLPClassifier(random_state=1, max_iter=300, verbose=1, hidden_layer_sizes=(100,100)).fit(X_train, y_train)"
   ]
  },
  {
   "cell_type": "code",
   "execution_count": 11,
   "metadata": {},
   "outputs": [
    {
     "output_type": "execute_result",
     "data": {
      "text/plain": [
       "0.9388"
      ]
     },
     "metadata": {},
     "execution_count": 11
    }
   ],
   "source": [
    "clf.score(X_test, y_test)"
   ]
  }
 ]
}