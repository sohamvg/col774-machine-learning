{
 "metadata": {
  "language_info": {
   "codemirror_mode": {
    "name": "ipython",
    "version": 3
   },
   "file_extension": ".py",
   "mimetype": "text/x-python",
   "name": "python",
   "nbconvert_exporter": "python",
   "pygments_lexer": "ipython3",
   "version": "3.8.5-final"
  },
  "orig_nbformat": 2,
  "kernelspec": {
   "name": "python3",
   "display_name": "Python 3.8.5 64-bit (conda)",
   "metadata": {
    "interpreter": {
     "hash": "3b97f6205e13cf85ea01e4081d87b6f06bf272a6e460f325999b991fb6c68282"
    }
   }
  }
 },
 "nbformat": 4,
 "nbformat_minor": 2,
 "cells": [
  {
   "cell_type": "code",
   "execution_count": 3,
   "metadata": {},
   "outputs": [],
   "source": [
    "import numpy as np"
   ]
  },
  {
   "cell_type": "code",
   "execution_count": 65,
   "metadata": {},
   "outputs": [],
   "source": [
    "# load data\n",
    "train_file = \"C:/IITD/sem5/col774-ml/datasets/decision_tree/decision_tree/train.csv\"\n",
    "test_file = \"C:/IITD/sem5/col774-ml/datasets/decision_tree/decision_tree/test.csv\"\n",
    "val_file = \"C:/IITD/sem5/col774-ml/datasets/decision_tree/decision_tree/val.csv\"\n",
    "train_data = np.genfromtxt(train_file, delimiter=',')\n",
    "test_data = np.genfromtxt(test_file, delimiter=',')\n",
    "val_data = np.genfromtxt(val_file, delimiter=',')"
   ]
  },
  {
   "cell_type": "code",
   "execution_count": 5,
   "metadata": {},
   "outputs": [],
   "source": [
    "def extract_data(data):\n",
    "    x = data[:, :-1]\n",
    "    y = data[:, -1].astype('int')\n",
    "    return x, y"
   ]
  },
  {
   "cell_type": "code",
   "execution_count": 66,
   "metadata": {},
   "outputs": [],
   "source": [
    "train_data = train_data[2: :]\n",
    "x, y = extract_data(train_data)\n",
    "num_attributes = x.shape[1]\n",
    "num_labels = 7"
   ]
  },
  {
   "cell_type": "code",
   "execution_count": 120,
   "metadata": {},
   "outputs": [
    {
     "output_type": "execute_result",
     "data": {
      "text/plain": [
       "array([1., 1., 1., ..., 1., 1., 1.])"
      ]
     },
     "metadata": {},
     "execution_count": 120
    }
   ],
   "source": [
    "j = 51\n",
    "d = train_data[2:, :]\n",
    "x = d[:, :-1]\n",
    "f = d[:, j] == 1\n",
    "e = np.where(d[:, j] == 1)\n",
    "d2 = d[x[:, j] == 1]\n",
    "d2[:, j]"
   ]
  },
  {
   "cell_type": "code",
   "execution_count": 7,
   "metadata": {},
   "outputs": [],
   "source": [
    "def entropy(y):\n",
    "    counts = np.bincount(y, minlength=num_labels+1) # count occurences of each label\n",
    "    prob = counts / y.size # probability for each label\n",
    "    # print(\"entr\", counts, prob)\n",
    "    summation = 0\n",
    "    for k in range(1, num_labels + 1):\n",
    "        if prob[k] != 0:\n",
    "            summation += prob[k] * np.log2(prob[k])\n",
    "    return -summation\n",
    "    # return -sum(prob[k] * np.log2(prob[k]) for k in range(1, num_labels + 1))"
   ]
  },
  {
   "cell_type": "code",
   "execution_count": 57,
   "metadata": {},
   "outputs": [
    {
     "output_type": "stream",
     "name": "stdout",
     "text": [
      "entr [0 0 1 3 0 1 1 0] [0.         0.         0.16666667 0.5        0.         0.16666667\n 0.16666667 0.        ]\n"
     ]
    },
    {
     "output_type": "execute_result",
     "data": {
      "text/plain": [
       "1.7924812503605778"
      ]
     },
     "metadata": {},
     "execution_count": 57
    }
   ],
   "source": [
    "yy = np.array([3,5, 3, 6, 3, 2])\n",
    "entropy(yy)"
   ]
  },
  {
   "cell_type": "code",
   "execution_count": 8,
   "metadata": {},
   "outputs": [],
   "source": [
    "def choose_best_attribute(D):\n",
    "    x, y = extract_data(D)\n",
    "    max_MI = -1\n",
    "    max_j = -1\n",
    "    for j in range(num_attributes):\n",
    "        if j > 10:\n",
    "            # discrete attribute\n",
    "            D0 = D[x[:, j] == 0]\n",
    "            D1 = D[x[:, j] == 1]\n",
    "        else:\n",
    "            # continuous attribute \n",
    "            median = np.median(x[:, j])\n",
    "            D0 = D[x[:, j] <= median]\n",
    "            D1 = D[x[:, j] > median]\n",
    "        x0, y0 = extract_data(D0)\n",
    "        x1, y1 = extract_data(D1)\n",
    "        p0 = y0.size / y.size\n",
    "        p1 = y1.size / y.size\n",
    "        MI = entropy(y) - (entropy(y0) * p0 + entropy(y1) * p1) # mutual information\n",
    "        # print(\"MI\", MI, j, entropy(y), entropy(y0), entropy(y1))\n",
    "        if MI > max_MI:\n",
    "            max_MI = MI\n",
    "            max_j = j\n",
    "    return max_j"
   ]
  },
  {
   "cell_type": "code",
   "execution_count": 10,
   "metadata": {},
   "outputs": [
    {
     "output_type": "execute_result",
     "data": {
      "text/plain": [
       "9"
      ]
     },
     "metadata": {},
     "execution_count": 10
    }
   ],
   "source": [
    "choose_best_attribute(train_data)"
   ]
  },
  {
   "cell_type": "code",
   "execution_count": 39,
   "metadata": {},
   "outputs": [],
   "source": [
    "class Node:\n",
    "    def __init__(self, attribute):\n",
    "        self.attribute = attribute\n",
    "        self.children = None\n",
    "\n",
    "    def create_leaf(class_label):\n",
    "        leaf = Node(attribute=None)\n",
    "        leaf.set_majority_class(class_label)\n",
    "        return leaf\n",
    "\n",
    "    def is_leaf(self):\n",
    "        return self.children == None\n",
    "\n",
    "    def add_child(self, node):\n",
    "        if self.children == None:\n",
    "            self.children = [node]\n",
    "        else:\n",
    "            self.children.append(node)\n",
    "\n",
    "    def set_majority_class(self, majority_class):\n",
    "        self.majority_class = majority_class\n",
    "\n",
    "    def set_attribute(self, attribute):\n",
    "        self.attribute = attribute\n",
    "\n",
    "    def set_attribute_median(self, attribute_median):\n",
    "        self.attribute_median = attribute_median"
   ]
  },
  {
   "cell_type": "code",
   "execution_count": 37,
   "metadata": {},
   "outputs": [
    {
     "output_type": "execute_result",
     "data": {
      "text/plain": [
       "array([118729, 158746,  20062,   1546,   5357,   9754,  11535],\n",
       "      dtype=int64)"
      ]
     },
     "metadata": {},
     "execution_count": 37
    }
   ],
   "source": [
    "np.bincount(y, minlength=num_labels+1)[1:]"
   ]
  },
  {
   "cell_type": "code",
   "execution_count": 10,
   "metadata": {},
   "outputs": [],
   "source": [
    "num_nodes = 0\n",
    "\n",
    "def grow_tree(D):\n",
    "    print(\"gt\", D.shape, num_nodes)\n",
    "    x, y = extract_data(D)\n",
    "    if np.all(y == y[0]):\n",
    "        num_nodes += 1\n",
    "        return Node(y[0])\n",
    "    else:\n",
    "        j = choose_best_attribute(D)\n",
    "        if j > 10:\n",
    "            # discrete attribute\n",
    "            D0 = D[x[:, j] == 0]\n",
    "            D1 = D[x[:, j] == 1]\n",
    "        else:\n",
    "            # continuous attribute \n",
    "            median = np.median(x[:, j])\n",
    "            D0 = D[x[:, j] <= median]\n",
    "            D1 = D[x[:, j] > median]\n",
    "        node = Node(j)\n",
    "        node.add_child(grow_tree(D0))\n",
    "        node.add_child(grow_tree(D1))\n",
    "        num_nodes += 1\n",
    "        return node"
   ]
  },
  {
   "cell_type": "code",
   "execution_count": 11,
   "metadata": {
    "tags": []
   },
   "outputs": [
    {
     "output_type": "error",
     "ename": "UnboundLocalError",
     "evalue": "local variable 'num_nodes' referenced before assignment",
     "traceback": [
      "\u001b[1;31m---------------------------------------------------------------------------\u001b[0m",
      "\u001b[1;31mUnboundLocalError\u001b[0m                         Traceback (most recent call last)",
      "\u001b[1;32m<ipython-input-11-55f6d1573196>\u001b[0m in \u001b[0;36m<module>\u001b[1;34m\u001b[0m\n\u001b[1;32m----> 1\u001b[1;33m \u001b[0mdtree\u001b[0m \u001b[1;33m=\u001b[0m \u001b[0mgrow_tree\u001b[0m\u001b[1;33m(\u001b[0m\u001b[0mtrain_data\u001b[0m\u001b[1;33m[\u001b[0m\u001b[1;33m:\u001b[0m\u001b[1;36m8\u001b[0m\u001b[1;33m]\u001b[0m\u001b[1;33m)\u001b[0m\u001b[1;33m\u001b[0m\u001b[1;33m\u001b[0m\u001b[0m\n\u001b[0m",
      "\u001b[1;32m<ipython-input-10-8454adf6ffbb>\u001b[0m in \u001b[0;36mgrow_tree\u001b[1;34m(D)\u001b[0m\n\u001b[0;32m      2\u001b[0m \u001b[1;33m\u001b[0m\u001b[0m\n\u001b[0;32m      3\u001b[0m \u001b[1;32mdef\u001b[0m \u001b[0mgrow_tree\u001b[0m\u001b[1;33m(\u001b[0m\u001b[0mD\u001b[0m\u001b[1;33m)\u001b[0m\u001b[1;33m:\u001b[0m\u001b[1;33m\u001b[0m\u001b[1;33m\u001b[0m\u001b[0m\n\u001b[1;32m----> 4\u001b[1;33m     \u001b[0mprint\u001b[0m\u001b[1;33m(\u001b[0m\u001b[1;34m\"gt\"\u001b[0m\u001b[1;33m,\u001b[0m \u001b[0mD\u001b[0m\u001b[1;33m.\u001b[0m\u001b[0mshape\u001b[0m\u001b[1;33m,\u001b[0m \u001b[0mnum_nodes\u001b[0m\u001b[1;33m)\u001b[0m\u001b[1;33m\u001b[0m\u001b[1;33m\u001b[0m\u001b[0m\n\u001b[0m\u001b[0;32m      5\u001b[0m     \u001b[0mx\u001b[0m\u001b[1;33m,\u001b[0m \u001b[0my\u001b[0m \u001b[1;33m=\u001b[0m \u001b[0mextract_data\u001b[0m\u001b[1;33m(\u001b[0m\u001b[0mD\u001b[0m\u001b[1;33m)\u001b[0m\u001b[1;33m\u001b[0m\u001b[1;33m\u001b[0m\u001b[0m\n\u001b[0;32m      6\u001b[0m     \u001b[1;32mif\u001b[0m \u001b[0mnp\u001b[0m\u001b[1;33m.\u001b[0m\u001b[0mall\u001b[0m\u001b[1;33m(\u001b[0m\u001b[0my\u001b[0m \u001b[1;33m==\u001b[0m \u001b[0my\u001b[0m\u001b[1;33m[\u001b[0m\u001b[1;36m0\u001b[0m\u001b[1;33m]\u001b[0m\u001b[1;33m)\u001b[0m\u001b[1;33m:\u001b[0m\u001b[1;33m\u001b[0m\u001b[1;33m\u001b[0m\u001b[0m\n",
      "\u001b[1;31mUnboundLocalError\u001b[0m: local variable 'num_nodes' referenced before assignment"
     ]
    }
   ],
   "source": [
    "dtree = grow_tree(train_data[:8])"
   ]
  },
  {
   "cell_type": "code",
   "execution_count": 56,
   "metadata": {},
   "outputs": [],
   "source": [
    "class DecisionTree:\n",
    "\n",
    "    def __init__(self, train_data):\n",
    "        self.train_data = train_data\n",
    "        self.num_nodes = 0\n",
    "\n",
    "    def grow_tree(self, D):\n",
    "        print(\"gt\", D.shape, self.num_nodes)\n",
    "        x, y = extract_data(D)\n",
    "        if np.all(y == y[0]):\n",
    "            # leaf node\n",
    "            self.num_nodes += 1\n",
    "            return Node.create_leaf(y[0])\n",
    "        else:\n",
    "            majority_class = np.argmax(np.bincount(y)[1:])\n",
    "            j = choose_best_attribute(D)\n",
    "            node = Node(j)\n",
    "            self.num_nodes += 1\n",
    "            if j > 10:\n",
    "                # discrete attribute\n",
    "                D0 = D[x[:, j] == 0]\n",
    "                D1 = D[x[:, j] == 1]\n",
    "            else:\n",
    "                # continuous attribute \n",
    "                attribute_median = np.median(x[:, j])\n",
    "                D0 = D[x[:, j] <= attribute_median]\n",
    "                D1 = D[x[:, j] > attribute_median]\n",
    "                node.set_attribute_median(attribute_median)\n",
    "            node.add_child(self.grow_tree(D0))\n",
    "            node.add_child(self.grow_tree(D1))\n",
    "            return node\n",
    "\n",
    "    def train(self):\n",
    "        self.root = self.grow_tree(self.train_data)\n",
    "\n",
    "    def predict(self, x):\n",
    "        return self.predict_node(self.root, x)\n",
    "\n",
    "    def predict_node(self, node, x):\n",
    "        if node.is_leaf():\n",
    "            return node.majority_class\n",
    "        else:\n",
    "            j = node.attribute\n",
    "            if j > 10:\n",
    "                # discrete attribute\n",
    "                return self.predict_node(node.children[int(x[j])], x)\n",
    "            else:\n",
    "                # continuous attibute\n",
    "                if x[j] <= node.attribute_median:\n",
    "                    return self.predict_node(node.children[0], x)\n",
    "                else:\n",
    "                    return self.predict_node(node.children[1], x)\n",
    "\n"
   ]
  },
  {
   "cell_type": "code",
   "execution_count": 75,
   "metadata": {},
   "outputs": [
    {
     "output_type": "stream",
     "name": "stdout",
     "text": [
      "gt (7, 55) 0\ngt (4, 55) 1\ngt (3, 55) 2\n5 5 3\n"
     ]
    }
   ],
   "source": [
    "dtree = DecisionTree(train_data[:7])\n",
    "dtree.train()\n",
    "t = 3\n",
    "print(dtree.predict(x[t]), y[t], dtree.num_nodes)\n",
    "# dtree.num_nodes"
   ]
  }
 ]
}