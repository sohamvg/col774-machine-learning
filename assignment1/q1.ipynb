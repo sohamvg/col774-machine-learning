{
 "cells": [
  {
   "cell_type": "code",
   "execution_count": 1,
   "metadata": {},
   "outputs": [],
   "source": [
    "# %matplotlib notebook\n",
    "\n",
    "import numpy as np\n",
    "import matplotlib.pyplot as plt\n",
    "from mpl_toolkits import mplot3d\n",
    "\n",
    "# !python --version"
   ]
  },
  {
   "cell_type": "code",
   "execution_count": 2,
   "metadata": {},
   "outputs": [],
   "source": [
    "m = 100\n",
    "n = 1\n",
    "learning_rate = 0.001"
   ]
  },
  {
   "cell_type": "code",
   "execution_count": 3,
   "metadata": {},
   "outputs": [
    {
     "data": {
      "image/png": "[encoded data removed]",
      "text/plain": [
       "<Figure size 432x288 with 1 Axes>"
      ]
     },
     "metadata": {
      "needs_background": "light"
     },
     "output_type": "display_data"
    }
   ],
   "source": [
    "x_data = np.genfromtxt('ass1_data/data/q1/linearX.csv', delimiter=',')\n",
    "y_data = np.genfromtxt('ass1_data/data/q1/linearY.csv', delimiter=',')\n",
    "\n",
    "# normalize\n",
    "x_data = x_data - x_data.mean()\n",
    "x_data = x_data / x_data.std()\n",
    "\n",
    "plt.scatter(x_data, y_data)\n",
    "plt.show()\n",
    "\n",
    "x_data = x_data.reshape((m, n))\n",
    "x_data = np.hstack((np.ones((m, 1)), x_data)) # add intercept\n",
    "\n",
    "y_data = y_data.reshape((m, 1))\n",
    "# print(x_data)\n",
    "# print(y_data)"
   ]
  },
  {
   "cell_type": "code",
   "execution_count": 4,
   "metadata": {},
   "outputs": [],
   "source": [
    "def hypothesis(theta, x):\n",
    "    return np.matmul(theta.T, x)"
   ]
  },
  {
   "cell_type": "code",
   "execution_count": 6,
   "metadata": {},
   "outputs": [
    {
     "data": {
      "text/plain": [
       "array([0.])"
      ]
     },
     "execution_count": 6,
     "metadata": {},
     "output_type": "execute_result"
    }
   ],
   "source": [
    "theta = np.zeros((n+1, 1))\n",
    "# print(theta)\n",
    "\n",
    "hypothesis(theta, x_data[2])\n",
    "\n",
    "# [hypothesis(theta, xi) for xi in x_data]"
   ]
  },
  {
   "cell_type": "code",
   "execution_count": 7,
   "metadata": {},
   "outputs": [
    {
     "data": {
      "text/plain": [
       "array([0.4966279])"
      ]
     },
     "execution_count": 7,
     "metadata": {},
     "output_type": "execute_result"
    }
   ],
   "source": [
    "def cost(theta):\n",
    "    summation = 0\n",
    "    for i in range(m):\n",
    "        summation += (y_data[i] - hypothesis(theta, x_data[i]))**2\n",
    "    return summation / (2 * m)\n",
    "        \n",
    "cost(theta)"
   ]
  },
  {
   "cell_type": "code",
   "execution_count": 8,
   "metadata": {},
   "outputs": [],
   "source": [
    "def gradient_descent(epsilon):\n",
    "    t = 0\n",
    "    theta = np.zeros((n+1, 1))\n",
    "    prev_cost = cost(theta)\n",
    "    thetas_and_costs = []\n",
    "    thetas_and_costs.append((theta, prev_cost))\n",
    "    \n",
    "    while True:\n",
    "#         print(t, theta)\n",
    "        theta_t = theta.copy()\n",
    "        \n",
    "        for j in range(n+1):\n",
    "            summation = 0\n",
    "            for i in range(m):\n",
    "                summation += (y_data[i] - hypothesis(theta_t, x_data[i])) * x_data[i][j]\n",
    "            theta[j] = theta[j] + (learning_rate * summation)\n",
    "            \n",
    "        curr_cost = cost(theta)\n",
    "        thetas_and_costs.append((theta, curr_cost))\n",
    "        print(t, theta_t, prev_cost, curr_cost)\n",
    "            \n",
    "        if abs(curr_cost - prev_cost) < epsilon or t > 100000:\n",
    "            return theta, thetas_and_costs\n",
    "        prev_cost = curr_cost\n",
    "        t += 1"
   ]
  },
  {
   "cell_type": "code",
   "execution_count": 9,
   "metadata": {},
   "outputs": [
    {
     "name": "stdout",
     "output_type": "stream",
     "text": [
      "0 [[0.]\n",
      " [0.]] [0.4966279] [0.40226883]\n",
      "1 [[0.09966201]\n",
      " [0.00013402]] [0.40226883] [0.32583798]\n",
      "2 [[0.18935782]\n",
      " [0.00025464]] [0.32583798] [0.26392899]\n",
      "3 [[0.27008405]\n",
      " [0.00036319]] [0.26392899] [0.21378271]\n",
      "4 [[0.34273765]\n",
      " [0.00046089]] [0.21378271] [0.17316422]\n",
      "5 [[0.4081259 ]\n",
      " [0.00054882]] [0.17316422] [0.14026325]\n",
      "6 [[0.46697532]\n",
      " [0.00062796]] [0.14026325] [0.11361346]\n",
      "7 [[0.5199398 ]\n",
      " [0.00069918]] [0.11361346] [0.09202713]\n",
      "8 [[0.56760783]\n",
      " [0.00076329]] [0.09202713] [0.0745422]\n",
      "9 [[0.61050905]\n",
      " [0.00082098]] [0.0745422] [0.06037941]\n",
      "10 [[0.64912016]\n",
      " [0.0008729 ]] [0.06037941] [0.04890755]\n",
      "11 [[0.68387015]\n",
      " [0.00091963]] [0.04890755] [0.03961534]\n",
      "12 [[0.71514515]\n",
      " [0.00096169]] [0.03961534] [0.03208865]\n",
      "13 [[0.74329264]\n",
      " [0.00099954]] [0.03208865] [0.02599204]\n",
      "14 [[0.76862539]\n",
      " [0.0010336 ]] [0.02599204] [0.02105378]\n",
      "15 [[0.79142486]\n",
      " [0.00106426]] [0.02105378] [0.01705379]\n",
      "16 [[0.81194438]\n",
      " [0.00109185]] [0.01705379] [0.01381379]\n",
      "17 [[0.83041196]\n",
      " [0.00111669]] [0.01381379] [0.0111894]\n",
      "18 [[0.84703277]\n",
      " [0.00113904]] [0.0111894] [0.00906364]\n",
      "19 [[0.8619915 ]\n",
      " [0.00115916]] [0.00906364] [0.00734178]\n",
      "20 [[0.87545436]\n",
      " [0.00117726]] [0.00734178] [0.00594707]\n",
      "21 [[0.88757094]\n",
      " [0.00119355]] [0.00594707] [0.00481735]\n",
      "22 [[0.89847585]\n",
      " [0.00120822]] [0.00481735] [0.00390228]\n",
      "23 [[0.90829028]\n",
      " [0.00122142]] [0.00390228] [0.00316107]\n",
      "24 [[0.91712326]\n",
      " [0.00123329]] [0.00316107] [0.0025607]\n",
      "25 [[0.92507294]\n",
      " [0.00124398]] [0.0025607] [0.00207439]\n",
      "26 [[0.93222766]\n",
      " [0.0012536 ]] [0.00207439] [0.00168048]\n",
      "27 [[0.9386669 ]\n",
      " [0.00126226]] [0.00168048] [0.00136142]\n",
      "28 [[0.94446222]\n",
      " [0.00127006]] [0.00136142] [0.00110298]\n",
      "29 [[0.94967801]\n",
      " [0.00127707]] [0.00110298] [0.00089364]\n",
      "30 [[0.95437222]\n",
      " [0.00128338]] [0.00089364] [0.00072407]\n",
      "31 [[0.95859701]\n",
      " [0.00128906]] [0.00072407] [0.00058673]\n",
      "32 [[0.96239932]\n",
      " [0.00129418]] [0.00058673] [0.00047548]\n",
      "33 [[0.9658214 ]\n",
      " [0.00129878]] [0.00047548] [0.00038536]\n",
      "34 [[0.96890127]\n",
      " [0.00130292]] [0.00038536] [0.00031237]\n",
      "35 [[0.97167315]\n",
      " [0.00130665]] [0.00031237] [0.00025325]\n",
      "36 [[0.97416784]\n",
      " [0.00131   ]] [0.00025325] [0.00020536]\n",
      "37 [[0.97641307]\n",
      " [0.00131302]] [0.00020536] [0.00016657]\n",
      "38 [[0.97843377]\n",
      " [0.00131574]] [0.00016657] [0.00013515]\n",
      "39 [[0.98025241]\n",
      " [0.00131819]] [0.00013515] [0.0001097]\n",
      "40 [[0.98188917]\n",
      " [0.00132039]] [0.0001097] [8.90800105e-05]\n",
      "41 [[0.98336227]\n",
      " [0.00132237]] [8.90800105e-05] [7.23818185e-05]\n",
      "42 [[0.98468805]\n",
      " [0.00132415]] [7.23818185e-05] [5.88562831e-05]\n",
      "43 [[0.98588126]\n",
      " [0.00132576]] [5.88562831e-05] [4.79005994e-05]\n",
      "44 [[0.98695514]\n",
      " [0.0013272 ]] [4.79005994e-05] [3.90264955e-05]\n",
      "45 [[0.98792164]\n",
      " [0.0013285 ]] [3.90264955e-05] [3.18384715e-05]\n",
      "46 [[0.98879148]\n",
      " [0.00132967]] [3.18384715e-05] [2.60161719e-05]\n",
      "47 [[0.98957434]\n",
      " [0.00133072]] [2.60161719e-05] [2.13001093e-05]\n",
      "48 [[0.99027892]\n",
      " [0.00133167]] [2.13001093e-05] [1.74800986e-05]\n",
      "49 [[0.99091304]\n",
      " [0.00133252]] [1.74800986e-05] [1.438589e-05]\n",
      "50 [[0.99148374]\n",
      " [0.00133329]] [1.438589e-05] [1.18795809e-05]\n",
      "51 [[0.99199738]\n",
      " [0.00133398]] [1.18795809e-05] [9.84947061e-06]\n",
      "52 [[0.99245965]\n",
      " [0.0013346 ]] [9.84947061e-06] [8.20508126e-06]\n",
      "53 [[0.9928757 ]\n",
      " [0.00133516]] [8.20508126e-06] [6.87312589e-06]\n",
      "54 [[0.99325014]\n",
      " [0.00133566]] [6.87312589e-06] [5.79424203e-06]\n",
      "55 [[0.99358713]\n",
      " [0.00133612]] [5.79424203e-06] [4.92034611e-06]\n",
      "56 [[0.99389043]\n",
      " [0.00133653]] [4.92034611e-06] [4.21249041e-06]\n",
      "57 [[0.9941634 ]\n",
      " [0.00133689]] [4.21249041e-06] [3.6391273e-06]\n",
      "58 [[0.99440907]\n",
      " [0.00133722]] [3.6391273e-06] [3.17470318e-06]\n",
      "59 [[0.99463017]\n",
      " [0.00133752]] [3.17470318e-06] [2.79851964e-06]\n",
      "60 [[0.99482916]\n",
      " [0.00133779]] [2.79851964e-06] [2.49381097e-06]\n",
      "61 [[0.99500826]\n",
      " [0.00133803]] [2.49381097e-06] [2.24699695e-06]\n",
      "62 [[0.99516944]\n",
      " [0.00133825]] [2.24699695e-06] [2.04707759e-06]\n",
      "63 [[0.99531451]\n",
      " [0.00133844]] [2.04707759e-06] [1.88514291e-06]\n",
      "64 [[0.99544507]\n",
      " [0.00133862]] [1.88514291e-06] [1.75397582e-06]\n",
      "65 [[0.99556257]\n",
      " [0.00133877]] [1.75397582e-06] [1.64773048e-06]\n",
      "66 [[0.99566832]\n",
      " [0.00133892]] [1.64773048e-06] [1.56167175e-06]\n",
      "67 [[0.9957635 ]\n",
      " [0.00133904]] [1.56167175e-06] [1.49196419e-06]\n",
      "68 [[0.99584916]\n",
      " [0.00133916]] [1.49196419e-06] [1.43550105e-06]\n",
      "69 [[0.99592625]\n",
      " [0.00133926]] [1.43550105e-06] [1.38976592e-06]\n",
      "70 [[0.99599564]\n",
      " [0.00133936]] [1.38976592e-06] [1.35272046e-06]\n",
      "71 [[0.99605809]\n",
      " [0.00133944]] [1.35272046e-06] [1.32271363e-06]\n",
      "72 [[0.99611429]\n",
      " [0.00133952]] [1.32271363e-06] [1.29840811e-06]\n",
      "73 [[0.99616487]\n",
      " [0.00133958]] [1.29840811e-06] [1.27872063e-06]\n",
      "74 [[0.99621039]\n",
      " [0.00133965]] [1.27872063e-06] [1.26277378e-06]\n",
      "75 [[0.99625136]\n",
      " [0.0013397 ]] [1.26277378e-06] [1.24985682e-06]\n",
      "76 [[0.99628824]\n",
      " [0.00133975]] [1.24985682e-06] [1.23939409e-06]\n",
      "77 [[0.99632142]\n",
      " [0.00133979]] [1.23939409e-06] [1.23091928e-06]\n",
      "[(array([[0.99635129],\n",
      "       [0.00133983]]), array([0.4966279])), (array([[0.99635129],\n",
      "       [0.00133983]]), array([0.40226883])), (array([[0.99635129],\n",
      "       [0.00133983]]), array([0.32583798])), (array([[0.99635129],\n",
      "       [0.00133983]]), array([0.26392899])), (array([[0.99635129],\n",
      "       [0.00133983]]), array([0.21378271])), (array([[0.99635129],\n",
      "       [0.00133983]]), array([0.17316422])), (array([[0.99635129],\n",
      "       [0.00133983]]), array([0.14026325])), (array([[0.99635129],\n",
      "       [0.00133983]]), array([0.11361346])), (array([[0.99635129],\n",
      "       [0.00133983]]), array([0.09202713])), (array([[0.99635129],\n",
      "       [0.00133983]]), array([0.0745422])), (array([[0.99635129],\n",
      "       [0.00133983]]), array([0.06037941])), (array([[0.99635129],\n",
      "       [0.00133983]]), array([0.04890755])), (array([[0.99635129],\n",
      "       [0.00133983]]), array([0.03961534])), (array([[0.99635129],\n",
      "       [0.00133983]]), array([0.03208865])), (array([[0.99635129],\n",
      "       [0.00133983]]), array([0.02599204])), (array([[0.99635129],\n",
      "       [0.00133983]]), array([0.02105378])), (array([[0.99635129],\n",
      "       [0.00133983]]), array([0.01705379])), (array([[0.99635129],\n",
      "       [0.00133983]]), array([0.01381379])), (array([[0.99635129],\n",
      "       [0.00133983]]), array([0.0111894])), (array([[0.99635129],\n",
      "       [0.00133983]]), array([0.00906364])), (array([[0.99635129],\n",
      "       [0.00133983]]), array([0.00734178])), (array([[0.99635129],\n",
      "       [0.00133983]]), array([0.00594707])), (array([[0.99635129],\n",
      "       [0.00133983]]), array([0.00481735])), (array([[0.99635129],\n",
      "       [0.00133983]]), array([0.00390228])), (array([[0.99635129],\n",
      "       [0.00133983]]), array([0.00316107])), (array([[0.99635129],\n",
      "       [0.00133983]]), array([0.0025607])), (array([[0.99635129],\n",
      "       [0.00133983]]), array([0.00207439])), (array([[0.99635129],\n",
      "       [0.00133983]]), array([0.00168048])), (array([[0.99635129],\n",
      "       [0.00133983]]), array([0.00136142])), (array([[0.99635129],\n",
      "       [0.00133983]]), array([0.00110298])), (array([[0.99635129],\n",
      "       [0.00133983]]), array([0.00089364])), (array([[0.99635129],\n",
      "       [0.00133983]]), array([0.00072407])), (array([[0.99635129],\n",
      "       [0.00133983]]), array([0.00058673])), (array([[0.99635129],\n",
      "       [0.00133983]]), array([0.00047548])), (array([[0.99635129],\n",
      "       [0.00133983]]), array([0.00038536])), (array([[0.99635129],\n",
      "       [0.00133983]]), array([0.00031237])), (array([[0.99635129],\n",
      "       [0.00133983]]), array([0.00025325])), (array([[0.99635129],\n",
      "       [0.00133983]]), array([0.00020536])), (array([[0.99635129],\n",
      "       [0.00133983]]), array([0.00016657])), (array([[0.99635129],\n",
      "       [0.00133983]]), array([0.00013515])), (array([[0.99635129],\n",
      "       [0.00133983]]), array([0.0001097])), (array([[0.99635129],\n",
      "       [0.00133983]]), array([8.90800105e-05])), (array([[0.99635129],\n",
      "       [0.00133983]]), array([7.23818185e-05])), (array([[0.99635129],\n",
      "       [0.00133983]]), array([5.88562831e-05])), (array([[0.99635129],\n",
      "       [0.00133983]]), array([4.79005994e-05])), (array([[0.99635129],\n",
      "       [0.00133983]]), array([3.90264955e-05])), (array([[0.99635129],\n",
      "       [0.00133983]]), array([3.18384715e-05])), (array([[0.99635129],\n",
      "       [0.00133983]]), array([2.60161719e-05])), (array([[0.99635129],\n",
      "       [0.00133983]]), array([2.13001093e-05])), (array([[0.99635129],\n",
      "       [0.00133983]]), array([1.74800986e-05])), (array([[0.99635129],\n",
      "       [0.00133983]]), array([1.438589e-05])), (array([[0.99635129],\n",
      "       [0.00133983]]), array([1.18795809e-05])), (array([[0.99635129],\n",
      "       [0.00133983]]), array([9.84947061e-06])), (array([[0.99635129],\n",
      "       [0.00133983]]), array([8.20508126e-06])), (array([[0.99635129],\n",
      "       [0.00133983]]), array([6.87312589e-06])), (array([[0.99635129],\n",
      "       [0.00133983]]), array([5.79424203e-06])), (array([[0.99635129],\n",
      "       [0.00133983]]), array([4.92034611e-06])), (array([[0.99635129],\n",
      "       [0.00133983]]), array([4.21249041e-06])), (array([[0.99635129],\n",
      "       [0.00133983]]), array([3.6391273e-06])), (array([[0.99635129],\n",
      "       [0.00133983]]), array([3.17470318e-06])), (array([[0.99635129],\n",
      "       [0.00133983]]), array([2.79851964e-06])), (array([[0.99635129],\n",
      "       [0.00133983]]), array([2.49381097e-06])), (array([[0.99635129],\n",
      "       [0.00133983]]), array([2.24699695e-06])), (array([[0.99635129],\n",
      "       [0.00133983]]), array([2.04707759e-06])), (array([[0.99635129],\n",
      "       [0.00133983]]), array([1.88514291e-06])), (array([[0.99635129],\n",
      "       [0.00133983]]), array([1.75397582e-06])), (array([[0.99635129],\n",
      "       [0.00133983]]), array([1.64773048e-06])), (array([[0.99635129],\n",
      "       [0.00133983]]), array([1.56167175e-06])), (array([[0.99635129],\n",
      "       [0.00133983]]), array([1.49196419e-06])), (array([[0.99635129],\n",
      "       [0.00133983]]), array([1.43550105e-06])), (array([[0.99635129],\n",
      "       [0.00133983]]), array([1.38976592e-06])), (array([[0.99635129],\n",
      "       [0.00133983]]), array([1.35272046e-06])), (array([[0.99635129],\n",
      "       [0.00133983]]), array([1.32271363e-06])), (array([[0.99635129],\n",
      "       [0.00133983]]), array([1.29840811e-06])), (array([[0.99635129],\n",
      "       [0.00133983]]), array([1.27872063e-06])), (array([[0.99635129],\n",
      "       [0.00133983]]), array([1.26277378e-06])), (array([[0.99635129],\n",
      "       [0.00133983]]), array([1.24985682e-06])), (array([[0.99635129],\n",
      "       [0.00133983]]), array([1.23939409e-06])), (array([[0.99635129],\n",
      "       [0.00133983]]), array([1.23091928e-06]))]\n"
     ]
    }
   ],
   "source": [
    "theta, thetas_and_costs = gradient_descent(1e-8)\n",
    "print(thetas_and_costs)"
   ]
  },
  {
   "cell_type": "code",
   "execution_count": 10,
   "metadata": {},
   "outputs": [
    {
     "data": {
      "image/png": "[encoded data removed]",
      "text/plain": [
       "<Figure size 432x288 with 1 Axes>"
      ]
     },
     "metadata": {
      "needs_background": "light"
     },
     "output_type": "display_data"
    }
   ],
   "source": [
    "plt.scatter(x_data.T[1,:], y_data)\n",
    "plt.plot(x_data.T[1,:], [hypothesis(theta, xi) for xi in x_data], 'C1')\n",
    "plt.show()"
   ]
  },
  {
   "cell_type": "code",
   "execution_count": 11,
   "metadata": {},
   "outputs": [
    {
     "data": {
      "text/plain": [
       "[<mpl_toolkits.mplot3d.art3d.Line3D at 0x7f68ffb220b8>]"
      ]
     },
     "execution_count": 11,
     "metadata": {},
     "output_type": "execute_result"
    },
    {
     "data": {
      "image/png": "[encoded data removed]",
      "text/plain": [
       "<Figure size 432x288 with 1 Axes>"
      ]
     },
     "metadata": {
      "needs_background": "light"
     },
     "output_type": "display_data"
    }
   ],
   "source": [
    "theta0 = np.linspace(-2, 4, 30)\n",
    "theta1 = np.linspace(-2, 4, 30)\n",
    "\n",
    "X, Y = np.meshgrid(theta0, theta1)\n",
    "# Z = f(X, Y)\n",
    "def f(theta0, theta1):\n",
    "    theta = np.array([[theta0],\n",
    "                        [theta1]])\n",
    "    return cost(theta)\n",
    "\n",
    "\n",
    "Z = f(X, Y)\n",
    "Z = Z.reshape((30, 30))\n",
    "fig = plt.figure()\n",
    "\n",
    "ax = plt.axes(projection='3d')\n",
    "ax.contour3D(X, Y, Z, 50, cmap='binary')\n",
    "ax.set_xlabel('x')\n",
    "ax.set_ylabel('y')\n",
    "ax.set_zlabel('z')\n",
    "\n",
    "temp = np.linspace(0,1,20)\n",
    "ax.plot3D(temp, temp, temp, 'red')"
   ]
  },
  {
   "cell_type": "code",
   "execution_count": null,
   "metadata": {},
   "outputs": [],
   "source": [
    "import time\n",
    "\n",
    "theta0 = np.linspace(-2, 4, 30)\n",
    "theta1 = np.linspace(-2, 4, 30)\n",
    "\n",
    "X, Y = np.meshgrid(theta0, theta1)\n",
    "# Z = f(X, Y)\n",
    "def f(theta0, theta1):\n",
    "    theta = np.array([[theta0],\n",
    "                        [theta1]])\n",
    "    return cost(theta)\n",
    "\n",
    "\n",
    "Z = f(X, Y)\n",
    "Z = Z.reshape((30, 30))\n",
    "\n",
    "fig = plt.figure()\n",
    "\n",
    "ax = plt.axes(projection='3d')\n",
    "\n",
    "for theta, cost in thetas_and_costs:\n",
    "#     print(theta, cost)\n",
    "    ax.contour3D(X, Y, Z, 50, cmap='binary')\n",
    "    ax.set_xlabel('x')\n",
    "    ax.set_ylabel('y')\n",
    "    ax.set_zlabel('z')\n",
    "\n",
    "    temp = np.linspace(0,1,20)\n",
    "    ax.scatter3D([theta[0]], [theta[1]], cost, 'red')\n",
    "    plt.show()"
   ]
  }
 ],
 "metadata": {
  "kernelspec": {
   "display_name": "Python 3.6.9 64-bit ('env': virtualenv)",
   "language": "python",
   "name": "python36964bitenvvirtualenva3676227531c4597ab9c69327938848a"
  },
  "language_info": {
   "codemirror_mode": {
    "name": "ipython",
    "version": 3
   },
   "file_extension": ".py",
   "mimetype": "text/x-python",
   "name": "python",
   "nbconvert_exporter": "python",
   "pygments_lexer": "ipython3",
   "version": "3.6.9"
  }
 },
 "nbformat": 4,
 "nbformat_minor": 4
}
