{
 "cells": [
  {
   "cell_type": "code",
   "execution_count": 201,
   "metadata": {},
   "outputs": [],
   "source": [
    "# %matplotlib notebook\n",
    "\n",
    "import numpy as np\n",
    "import matplotlib.pyplot as plt\n",
    "from mpl_toolkits import mplot3d\n",
    "\n",
    "# !python --version"
   ]
  },
  {
   "cell_type": "code",
   "execution_count": 202,
   "metadata": {},
   "outputs": [
    {
     "data": {
      "image/png": "[encoded data removed]",
      "text/plain": [
       "<Figure size 432x288 with 1 Axes>"
      ]
     },
     "metadata": {
      "needs_background": "light"
     },
     "output_type": "display_data"
    }
   ],
   "source": [
    "x = np.genfromtxt('ass1_data/data/q3/logisticX.csv', delimiter=',')\n",
    "y = np.genfromtxt('ass1_data/data/q3/logisticY.csv', delimiter=',')\n",
    "\n",
    "n = x[0,:].size\n",
    "m = y.size\n",
    "        \n",
    "# normalize\n",
    "for i in range(n):\n",
    "    x[:,i] = (x[:,i] - x[:,i].mean()) / x[:,i].std()\n",
    "    \n",
    "x1_0 = []\n",
    "x2_0 = []\n",
    "x1_1 = []\n",
    "x2_1 = []\n",
    "for i in range(m):\n",
    "    if y[i] == 0:\n",
    "        x1_0.append(x[i][0])\n",
    "        x2_0.append(x[i][1])\n",
    "    else:\n",
    "        x1_1.append(x[i][0])\n",
    "        x2_1.append(x[i][1])        \n",
    "plt.scatter(x1_0, x2_0, marker='o')\n",
    "plt.scatter(x1_1, x2_1, marker='^')\n",
    "plt.xlabel(\"x1\")\n",
    "plt.ylabel(\"x2\")\n",
    "plt.show()\n",
    "\n",
    "x = np.hstack((np.ones((m, 1)), x))\n",
    "x = x.reshape((m, n+1, 1))\n",
    "y = y.reshape((m, 1))"
   ]
  },
  {
   "cell_type": "code",
   "execution_count": 203,
   "metadata": {},
   "outputs": [],
   "source": [
    "def g(z):\n",
    "    return 1 / (1 + np.exp(-z))\n",
    "\n",
    "def hypothesis(theta, x):\n",
    "    return g(np.matmul(theta.T, x))\n",
    "\n",
    "def LL(theta):\n",
    "    summation = 0\n",
    "    for i in range(m):\n",
    "        summation += y[i]*np.log(hypothesis(theta, x[i])) + (1 - y[i])*np.log(1 - hypothesis(theta, x[i]))\n",
    "    return summation\n",
    "\n",
    "def derivative_LL(theta):\n",
    "    delta = np.zeros((n+1, 1))\n",
    "    for j in range(n+1):\n",
    "        summation = 0\n",
    "        for i in range(m):\n",
    "            summation += (y[i] - hypothesis(theta, x[i])) * x[i][j]\n",
    "        delta[j] = summation\n",
    "    return delta"
   ]
  },
  {
   "cell_type": "code",
   "execution_count": 204,
   "metadata": {},
   "outputs": [],
   "source": [
    "def hessian(theta):\n",
    "#     print(\"hessian\")\n",
    "#     print(\"theta\", theta)\n",
    "    H = np.zeros((n+1, n+1))\n",
    "    for j in range(n+1):\n",
    "        for k in range(j, n+1):\n",
    "            summation = 0\n",
    "            for i in range(m):\n",
    "                summation += hypothesis(theta, x[i])*(1 - hypothesis(theta, x[i])) * x[i][j] * x[i][k]\n",
    "#             print(\"val\", j, k, summation)\n",
    "            H[j][k] = summation\n",
    "            H[k][j] = summation\n",
    "    return H"
   ]
  },
  {
   "cell_type": "code",
   "execution_count": 205,
   "metadata": {},
   "outputs": [],
   "source": [
    "def newtons_method(epsilon):\n",
    "    t = 0\n",
    "    theta = np.zeros((n+1, 1))\n",
    "    prev_LL = LL(theta)\n",
    "    \n",
    "    while True:\n",
    "#         theta_t = theta.copy()\n",
    "#         h = hessian(theta)\n",
    "#         h_inv = np.linalg.inv(h)\n",
    "#         dll = derivative_LL(theta)\n",
    "#         print(\"nm\", t, theta, h, h_inv, dll, LL(theta))\n",
    "        theta = theta + np.matmul((np.linalg.inv(hessian(theta))), derivative_LL(theta))\n",
    "        curr_LL = LL(theta)\n",
    "#         print(\"diff\", LL(theta_t), LL(theta))\n",
    "        \n",
    "        if abs(prev_LL - curr_LL) < epsilon or t > 50:\n",
    "            return theta\n",
    "        prev_LL = curr_LL\n",
    "        t += 1"
   ]
  },
  {
   "cell_type": "code",
   "execution_count": 206,
   "metadata": {},
   "outputs": [
    {
     "data": {
      "text/plain": [
       "array([[ 0.40125316],\n",
       "       [ 2.5885477 ],\n",
       "       [-2.72558849]])"
      ]
     },
     "execution_count": 206,
     "metadata": {},
     "output_type": "execute_result"
    }
   ],
   "source": [
    "newtons_method(1e-8)"
   ]
  },
  {
   "cell_type": "code",
   "execution_count": 199,
   "metadata": {},
   "outputs": [
    {
     "data": {
      "image/png": "[encoded data removed]",
      "text/plain": [
       "<Figure size 432x288 with 1 Axes>"
      ]
     },
     "metadata": {
      "needs_background": "light"
     },
     "output_type": "display_data"
    }
   ],
   "source": [
    "x = np.genfromtxt('ass1_data/data/q3/logisticX.csv', delimiter=',')\n",
    "y = np.genfromtxt('ass1_data/data/q3/logisticY.csv', delimiter=',')\n",
    "\n",
    "n = x[0,:].size\n",
    "m = y.size\n",
    "        \n",
    "# normalize\n",
    "for i in range(n):\n",
    "    x[:,i] = (x[:,i] - x[:,i].mean()) / x[:,i].std()\n",
    "    \n",
    "# theta0 + theta1*x1 + theta2*x2 = 0\n",
    "\n",
    "def get_x2(theta, x1):\n",
    "    return -(theta[0] + theta[1]*x1)/theta[2]\n",
    "\n",
    "\n",
    "theta = np.array([[ 0.40125316],\n",
    " [ 2.5885477 ],\n",
    " [-2.72558849]])\n",
    "    \n",
    "x2_pred = [get_x2(theta, xi) for xi in x[:, 0]]\n",
    "    \n",
    "x1_0 = []\n",
    "x2_0 = []\n",
    "x1_1 = []\n",
    "x2_1 = []\n",
    "for i in range(m):\n",
    "    if y[i] == 0:\n",
    "        x1_0.append(x[i][0])\n",
    "        x2_0.append(x[i][1])\n",
    "    else:\n",
    "        x1_1.append(x[i][0])\n",
    "        x2_1.append(x[i][1])        \n",
    "plt.scatter(x1_0, x2_0, marker='o')\n",
    "plt.scatter(x1_1, x2_1, marker='^')\n",
    "plt.plot(x[:,0], x2_pred, 'C2')\n",
    "plt.xlabel(\"x1\")\n",
    "plt.ylabel(\"x2\")\n",
    "plt.show()"
   ]
  }
 ],
 "metadata": {
  "kernelspec": {
   "display_name": "Python 3.6.9 64-bit ('env': virtualenv)",
   "language": "python",
   "name": "python36964bitenvvirtualenva3676227531c4597ab9c69327938848a"
  },
  "language_info": {
   "codemirror_mode": {
    "name": "ipython",
    "version": 3
   },
   "file_extension": ".py",
   "mimetype": "text/x-python",
   "name": "python",
   "nbconvert_exporter": "python",
   "pygments_lexer": "ipython3",
   "version": "3.6.9"
  }
 },
 "nbformat": 4,
 "nbformat_minor": 4
}
