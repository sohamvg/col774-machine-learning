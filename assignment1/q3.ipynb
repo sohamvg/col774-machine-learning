{
 "cells": [
  {
   "cell_type": "code",
   "execution_count": 12,
   "metadata": {},
   "outputs": [],
   "source": [
    "# %matplotlib notebook\n",
    "\n",
    "import numpy as np\n",
    "import matplotlib.pyplot as plt\n",
    "from mpl_toolkits import mplot3d\n",
    "\n",
    "# !python --version"
   ]
  },
  {
   "cell_type": "code",
   "execution_count": 13,
   "metadata": {},
   "outputs": [
    {
     "data": {
      "image/png": "[encoded data removed]",
      "text/plain": [
       "<Figure size 432x288 with 1 Axes>"
      ]
     },
     "metadata": {
      "needs_background": "light"
     },
     "output_type": "display_data"
    }
   ],
   "source": [
    "x = np.genfromtxt('ass1_data/data/q3/logisticX.csv', delimiter=',')\n",
    "y = np.genfromtxt('ass1_data/data/q3/logisticY.csv', delimiter=',')\n",
    "\n",
    "n = x[0,:].size\n",
    "m = y.size\n",
    "        \n",
    "# normalize\n",
    "for i in range(n):\n",
    "    x[:,i] = (x[:,i] - x[:,i].mean()) / x[:,i].std()\n",
    "    \n",
    "x1_0 = []\n",
    "x2_0 = []\n",
    "x1_1 = []\n",
    "x2_1 = []\n",
    "for i in range(m):\n",
    "    if y[i] == 0:\n",
    "        x1_0.append(x[i][0])\n",
    "        x2_0.append(x[i][1])\n",
    "    else:\n",
    "        x1_1.append(x[i][0])\n",
    "        x2_1.append(x[i][1])        \n",
    "plt.scatter(x1_0, x2_0, marker='o')\n",
    "plt.scatter(x1_1, x2_1, marker='^')\n",
    "plt.xlabel(\"x1\")\n",
    "plt.ylabel(\"x2\")\n",
    "plt.show()\n",
    "\n",
    "x = np.hstack((np.ones((m, 1)), x))\n",
    "x = x.reshape((m, n+1, 1))\n",
    "y = y.reshape((m, 1))"
   ]
  },
  {
   "cell_type": "code",
   "execution_count": 14,
   "metadata": {},
   "outputs": [],
   "source": [
    "def g(z):\n",
    "    return 1 / (1 + np.exp(-z))\n",
    "\n",
    "def hypothesis(theta, x):\n",
    "    return g(np.matmul(theta.T, x))\n",
    "\n",
    "def LL(theta):\n",
    "    summation = 0\n",
    "    for i in range(m):\n",
    "        summation += y[i]*np.log(hypothesis(theta, x[i])) + (1 - y[i])*np.log(1 - hypothesis(theta, x[i]))\n",
    "    return summation\n",
    "\n",
    "def derivative_LL(theta):\n",
    "    delta = np.zeros((n+1, 1))\n",
    "    for j in range(n+1):\n",
    "        summation = 0\n",
    "        for i in range(m):\n",
    "            summation += (y[i] - hypothesis(theta, x[i])) * x[i][j]\n",
    "        delta[j] = summation\n",
    "    return delta"
   ]
  },
  {
   "cell_type": "code",
   "execution_count": 15,
   "metadata": {},
   "outputs": [],
   "source": [
    "def hessian(theta):\n",
    "#     print(\"hessian\")\n",
    "#     print(\"theta\", theta)\n",
    "    H = np.zeros((n+1, n+1))\n",
    "    for j in range(n+1):\n",
    "        for k in range(j, n+1):\n",
    "            summation = 0\n",
    "            for i in range(m):\n",
    "                summation += hypothesis(theta, x[i])*(1 - hypothesis(theta, x[i])) * x[i][j] * x[i][k]\n",
    "#             print(\"val\", j, k, summation)\n",
    "            H[j][k] = summation\n",
    "            H[k][j] = summation\n",
    "    return H"
   ]
  },
  {
   "cell_type": "code",
   "execution_count": 16,
   "metadata": {},
   "outputs": [],
   "source": [
    "def newtons_method(epsilon):\n",
    "    t = 0\n",
    "    theta = np.zeros((n+1, 1))\n",
    "    prev_LL = LL(theta)\n",
    "    \n",
    "    while True:\n",
    "        theta_t = theta.copy()\n",
    "        h = hessian(theta)\n",
    "        h_inv = np.linalg.inv(h)\n",
    "        dll = derivative_LL(theta)\n",
    "        print(\"nm\", t, theta, h, h_inv, dll, LL(theta))\n",
    "        theta = theta + np.matmul((np.linalg.inv(hessian(theta))), derivative_LL(theta))\n",
    "        curr_LL = LL(theta)\n",
    "#         print(\"diff\", LL(theta_t), LL(theta))\n",
    "        \n",
    "        if abs(prev_LL - curr_LL) < epsilon or t > 50:\n",
    "            return theta\n",
    "        prev_LL = curr_LL\n",
    "        t += 1"
   ]
  },
  {
   "cell_type": "code",
   "execution_count": 17,
   "metadata": {},
   "outputs": [
    {
     "name": "stdout",
     "output_type": "stream",
     "text": [
      "nm 0 [[0.]\n",
      " [0.]\n",
      " [0.]] [[ 2.50000000e+01 -9.21485110e-15 -1.47798440e-15]\n",
      " [-9.21485110e-15  2.50000000e+01 -1.23957811e+01]\n",
      " [-1.47798440e-15 -1.23957811e+01  2.50000000e+01]] [[4.00000000e-02 2.11049023e-17 1.28292451e-17]\n",
      " [2.11049023e-17 5.30397494e-02 2.62987650e-02]\n",
      " [1.28292451e-17 2.62987650e-02 5.30397494e-02]] [[  0.        ]\n",
      " [ 33.83904568]\n",
      " [-34.12605478]] [[-69.31471806]]\n",
      "nm 1 [[ 2.76358234e-16]\n",
      " [ 8.97341408e-01]\n",
      " [-9.20112283e-01]] [[16.67015307 -0.63692543  0.68514297]\n",
      " [-0.63692543 11.56496155 -3.01113727]\n",
      " [ 0.68514297 -3.01113727 11.47318617]] [[ 0.06020525  0.00255417 -0.00292493]\n",
      " [ 0.00255417  0.09291847  0.02423392]\n",
      " [-0.00292493  0.02423392  0.09369461]] [[ 0.6668992 ]\n",
      " [ 9.41457848]\n",
      " [-9.37715884]] [[-33.42765918]]\n",
      "nm 2 [[ 0.0916248 ]\n",
      " [ 1.54658764]\n",
      " [-1.57249997]] [[11.29505368 -0.96940762  0.85973513]\n",
      " [-0.96940762  6.01483528 -0.05014815]\n",
      " [ 0.85973513 -0.05014815  5.63497973]] [[ 0.09082579  0.01452388 -0.01372814]\n",
      " [ 0.01452388  0.16859043 -0.00071557]\n",
      " [-0.01372814 -0.00071557  0.17955108]] [[ 0.48660921]\n",
      " [ 3.24971265]\n",
      " [-3.36781488]] [[-25.71546598]]\n",
      "nm 3 [[ 0.22925374]\n",
      " [ 2.10393545]\n",
      " [-2.18620038]] [[ 8.46760424 -1.13703868  0.86211377]\n",
      " [-1.13703868  3.86622949  0.7118158 ]\n",
      " [ 0.86211377  0.7118158   3.42761171]] [[ 0.12845281  0.04546397 -0.04175004]\n",
      " [ 0.04546397  0.28502374 -0.0706263 ]\n",
      " [-0.04175004 -0.0706263   0.31691635]] [[ 0.28022779]\n",
      " [ 0.96311127]\n",
      " [-1.02366276]] [[-23.3136386]]\n",
      "nm 4 [[ 0.35177461]\n",
      " [ 2.46348281]\n",
      " [-2.59033635]] [[ 7.28660058 -1.1948712   0.8472037 ]\n",
      " [-1.1948712   3.10776118  0.89744865]\n",
      " [ 0.8472037   0.89744865  2.69843806]] [[ 0.16014211  0.08417489 -0.07827329]\n",
      " [ 0.08417489  0.40020673 -0.15952868]\n",
      " [-0.07827329 -0.15952868  0.44821567]] [[ 0.0877237 ]\n",
      " [ 0.19287929]\n",
      " [-0.19645878]] [[-22.86096895]]\n",
      "nm 5 [[ 0.39743593]\n",
      " [ 2.57939935]\n",
      " [-2.71602845]] [[ 6.99158812 -1.20588864  0.8460042 ]\n",
      " [-1.20588864  2.92894387  0.93296816]\n",
      " [ 0.8460042   0.93296816  2.53831995]] [[ 0.17182382  0.10078363 -0.09431104]\n",
      " [ 0.10078363  0.44580823 -0.19744881]\n",
      " [-0.09431104 -0.19744881  0.49796756]] [[ 0.00752294]\n",
      " [ 0.01320006]\n",
      " [-0.01243719]] [[-22.83427893]]\n",
      "nm 6 [[ 0.40123187]\n",
      " [ 2.58849794]\n",
      " [-2.7255376 ]] [[ 6.97036051 -1.20668975  0.84627142]\n",
      " [-1.20668975  2.91604819  0.93537903]\n",
      " [ 0.84627142  0.93537903  2.52729308]] [[ 0.17276952  0.10218211 -0.0956711 ]\n",
      " [ 0.10218211  0.44956132 -0.20060358]\n",
      " [-0.0956711  -0.20060358  0.50196161]] [[ 4.53097631e-05]\n",
      " [ 7.18023024e-05]\n",
      " [-6.40417839e-05]] [[-22.83414499]]\n"
     ]
    }
   ],
   "source": [
    "theta = newtons_method(1e-8)"
   ]
  },
  {
   "cell_type": "code",
   "execution_count": 11,
   "metadata": {},
   "outputs": [
    {
     "data": {
      "image/png": "[encoded data removed]",
      "text/plain": [
       "<Figure size 432x288 with 1 Axes>"
      ]
     },
     "metadata": {
      "needs_background": "light"
     },
     "output_type": "display_data"
    }
   ],
   "source": [
    "x = np.genfromtxt('ass1_data/data/q3/logisticX.csv', delimiter=',')\n",
    "y = np.genfromtxt('ass1_data/data/q3/logisticY.csv', delimiter=',')\n",
    "\n",
    "n = x[0,:].size\n",
    "m = y.size\n",
    "        \n",
    "# normalize\n",
    "# for i in range(n):\n",
    "#     x[:,i] = (x[:,i] - x[:,i].mean()) / x[:,i].std()\n",
    "    \n",
    "# theta0 + theta1*x1 + theta2*x2 = 0\n",
    "\n",
    "def get_x2(theta, x1):\n",
    "    return -(theta[0] + theta[1]*x1)/theta[2]\n",
    "\n",
    "\n",
    "# theta = np.array([[ 0.40125316],\n",
    "#  [ 2.5885477 ],\n",
    "#  [-2.72558849]])\n",
    "    \n",
    "x2_pred = [get_x2(theta, xi) for xi in x[:, 0]]\n",
    "    \n",
    "x1_0 = []\n",
    "x2_0 = []\n",
    "x1_1 = []\n",
    "x2_1 = []\n",
    "for i in range(m):\n",
    "    if y[i] == 0:\n",
    "        x1_0.append(x[i][0])\n",
    "        x2_0.append(x[i][1])\n",
    "    else:\n",
    "        x1_1.append(x[i][0])\n",
    "        x2_1.append(x[i][1])        \n",
    "plt.scatter(x1_0, x2_0, marker='o')\n",
    "plt.scatter(x1_1, x2_1, marker='^')\n",
    "plt.plot(x[:,0], x2_pred, 'C2')\n",
    "plt.xlabel(\"x1\")\n",
    "plt.ylabel(\"x2\")\n",
    "plt.show()"
   ]
  }
 ],
 "metadata": {
  "kernelspec": {
   "display_name": "Python 3.6.9 64-bit ('env': virtualenv)",
   "language": "python",
   "name": "python36964bitenvvirtualenva3676227531c4597ab9c69327938848a"
  },
  "language_info": {
   "codemirror_mode": {
    "name": "ipython",
    "version": 3
   },
   "file_extension": ".py",
   "mimetype": "text/x-python",
   "name": "python",
   "nbconvert_exporter": "python",
   "pygments_lexer": "ipython3",
   "version": "3.6.9"
  }
 },
 "nbformat": 4,
 "nbformat_minor": 4
}
