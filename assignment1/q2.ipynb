{
 "cells": [
  {
   "cell_type": "code",
   "execution_count": 55,
   "metadata": {},
   "outputs": [],
   "source": [
    "# %matplotlib notebook\n",
    "\n",
    "import numpy as np\n",
    "import matplotlib.pyplot as plt\n",
    "from mpl_toolkits import mplot3d\n",
    "\n",
    "# !python --version"
   ]
  },
  {
   "cell_type": "code",
   "execution_count": 56,
   "metadata": {},
   "outputs": [],
   "source": [
    "m = 10**6\n",
    "n = 2\n",
    "theta = np.array([[3], [1], [2]])\n",
    "x1 = np.random.normal(3, 4, m)\n",
    "x2 = np.random.normal(-1, 4, m)\n",
    "x = np.stack((np.ones(m), x1, x2), axis=1).reshape((m, n+1, 1))\n",
    "\n",
    "noise = np.random.normal(0, 2, m).reshape((m, 1))\n",
    "\n",
    "# s = x1\n",
    "# mu = 3\n",
    "# sigma = 4\n",
    "# count, bins, ignored = plt.hist(s, 30, density=True)\n",
    "# plt.plot(bins, 1/(sigma * np.sqrt(2 * np.pi)) *\n",
    "#                np.exp( - (bins - mu)**2 / (2 * sigma**2) ),\n",
    "#          linewidth=2, color='r')\n",
    "# plt.show()"
   ]
  },
  {
   "cell_type": "code",
   "execution_count": 57,
   "metadata": {},
   "outputs": [
    {
     "data": {
      "image/png": "[encoded data removed]",
      "text/plain": [
       "<Figure size 432x288 with 1 Axes>"
      ]
     },
     "metadata": {
      "needs_background": "light"
     },
     "output_type": "display_data"
    }
   ],
   "source": [
    "np.random.shuffle(x)\n",
    "y = np.matmul(theta.T, x)\n",
    "plt.scatter(x[:,1,:], y)\n",
    "plt.show()"
   ]
  },
  {
   "cell_type": "code",
   "execution_count": 58,
   "metadata": {},
   "outputs": [],
   "source": [
    "def hypothesis(theta, x):\n",
    "    return np.matmul(theta.T, x)"
   ]
  },
  {
   "cell_type": "code",
   "execution_count": 59,
   "metadata": {},
   "outputs": [],
   "source": [
    "def cost(y, x, theta):\n",
    "    summation = 0\n",
    "    for i in range(m):\n",
    "        summation += (y[i] - hypothesis(theta, x[i]))**2\n",
    "    return summation / (2 * m)"
   ]
  },
  {
   "cell_type": "code",
   "execution_count": 60,
   "metadata": {},
   "outputs": [],
   "source": [
    "def stochastic_gradient_descent(learning_rate, r, epsilon):\n",
    "    t = 0\n",
    "    theta = np.zeros((n+1, 1))\n",
    "#     prev_cost = cost(y, x, theta)\n",
    "    kk = 0\n",
    "#     thetas_and_costs = []\n",
    "#     thetas_and_costs.append((theta, prev_cost))\n",
    "    epoch = 0\n",
    "    \n",
    "    while True:\n",
    "    \n",
    "        for b in range(int(m/r)):\n",
    "            theta_t = theta.copy()\n",
    "            \n",
    "            for j in range(n+1):\n",
    "                summation = 0\n",
    "                for k in range(r):\n",
    "                    ik = b*r + k\n",
    "#                     print(ik)\n",
    "                    summation += (y[ik] - hypothesis(theta_t, x[ik])) * x[ik][j]\n",
    "                theta[j] = theta[j] + (learning_rate * summation)\n",
    "                \n",
    "#             curr_cost = cost(y, x, theta)\n",
    "#             print(b, t, theta, curr_cost)\n",
    "            print(epoch, t, theta, theta_t, abs(theta - theta_t), (abs(theta - theta_t) <= epsilon).all(), kk)\n",
    "            \n",
    "            if ((abs(theta - theta_t) <= epsilon).all()):\n",
    "                kk += 1\n",
    "                print(\"wer\", kk)\n",
    "            else:\n",
    "                kk = 0\n",
    "            \n",
    "            if kk > 2 or t > 80000:\n",
    "                return theta\n",
    "#             prev_cost = curr_cost\n",
    "            t += 1\n",
    "        epoch += 1"
   ]
  },
  {
   "cell_type": "code",
   "execution_count": 78,
   "metadata": {},
   "outputs": [
    {
     "name": "stdout",
     "output_type": "stream",
     "text": [
      "0 0 [[0.4014486 ]\n",
      " [2.79884191]\n",
      " [2.79965242]] [[0.]\n",
      " [0.]\n",
      " [0.]] [[0.4014486 ]\n",
      " [2.79884191]\n",
      " [2.79965242]] False 0\n",
      "1 1 [[ 0.20082419]\n",
      " [-0.68051255]\n",
      " [ 1.72514721]] [[0.4014486 ]\n",
      " [2.79884191]\n",
      " [2.79965242]] [[0.20062441]\n",
      " [3.47935446]\n",
      " [1.0745052 ]] False 0\n",
      "2 2 [[0.95784431]\n",
      " [4.28130567]\n",
      " [1.40706115]] [[ 0.20082419]\n",
      " [-0.68051255]\n",
      " [ 1.72514721]] [[0.75702011]\n",
      " [4.96181822]\n",
      " [0.31808606]] False 0\n",
      "3 3 [[ 0.11825896]\n",
      " [-3.49439963]\n",
      " [ 3.20228553]] [[0.95784431]\n",
      " [4.28130567]\n",
      " [1.40706115]] [[0.83958535]\n",
      " [7.7757053 ]\n",
      " [1.79522437]] False 0\n",
      "4 4 [[ 1.8748866 ]\n",
      " [ 8.9782412 ]\n",
      " [-0.48397467]] [[ 0.11825896]\n",
      " [-3.49439963]\n",
      " [ 3.20228553]] [[ 1.75662764]\n",
      " [12.47264083]\n",
      " [ 3.68626019]] False 0\n",
      "5 5 [[ -0.65407673]\n",
      " [-11.39499303]\n",
      " [  6.03413997]] [[ 1.8748866 ]\n",
      " [ 8.9782412 ]\n",
      " [-0.48397467]] [[ 2.52896333]\n",
      " [20.37323423]\n",
      " [ 6.51811464]] False 0\n",
      "6 6 [[ 3.83251547]\n",
      " [21.93112044]\n",
      " [-4.92662497]] [[ -0.65407673]\n",
      " [-11.39499303]\n",
      " [  6.03413997]] [[ 4.4865922 ]\n",
      " [33.32611347]\n",
      " [10.96076495]] False 0\n",
      "7 7 [[ -3.22143233]\n",
      " [-32.77813237]\n",
      " [ 13.24643972]] [[ 3.83251547]\n",
      " [21.93112044]\n",
      " [-4.92662497]] [[ 7.05394781]\n",
      " [54.70925281]\n",
      " [18.1730647 ]] False 0\n",
      "8 8 [[  8.6566485 ]\n",
      " [ 56.99510071]\n",
      " [-16.6817403 ]] [[ -3.22143233]\n",
      " [-32.77813237]\n",
      " [ 13.24643972]] [[11.87808084]\n",
      " [89.77323309]\n",
      " [29.92818002]] False 0\n",
      "9 9 [[-10.57213824]\n",
      " [-90.43864572]\n",
      " [ 32.5333587 ]] [[  8.6566485 ]\n",
      " [ 56.99510071]\n",
      " [-16.6817403 ]] [[ 19.22878674]\n",
      " [147.43374643]\n",
      " [ 49.215099  ]] False 0\n"
     ]
    },
    {
     "ename": "KeyboardInterrupt",
     "evalue": "",
     "output_type": "error",
     "traceback": [
      "\u001b[0;31m---------------------------------------------------------------------------\u001b[0m",
      "\u001b[0;31mKeyboardInterrupt\u001b[0m                         Traceback (most recent call last)",
      "\u001b[0;32m<ipython-input-78-66b6875d306d>\u001b[0m in \u001b[0;36m<module>\u001b[0;34m\u001b[0m\n\u001b[0;32m----> 1\u001b[0;31m \u001b[0mtheta\u001b[0m \u001b[0;34m=\u001b[0m \u001b[0mstochastic_gradient_descent\u001b[0m\u001b[0;34m(\u001b[0m\u001b[0;36m0.0000001\u001b[0m\u001b[0;34m,\u001b[0m \u001b[0;36m1000000\u001b[0m\u001b[0;34m,\u001b[0m \u001b[0;36m1e-5\u001b[0m\u001b[0;34m)\u001b[0m\u001b[0;34m\u001b[0m\u001b[0;34m\u001b[0m\u001b[0m\n\u001b[0m\u001b[1;32m      2\u001b[0m \u001b[0;31m# theta = gradient_descent(0.001, 1e-5)\u001b[0m\u001b[0;34m\u001b[0m\u001b[0;34m\u001b[0m\u001b[0;34m\u001b[0m\u001b[0m\n",
      "\u001b[0;32m<ipython-input-60-2bf801a0dc0b>\u001b[0m in \u001b[0;36mstochastic_gradient_descent\u001b[0;34m(learning_rate, r, epsilon)\u001b[0m\n\u001b[1;32m     18\u001b[0m                     \u001b[0mik\u001b[0m \u001b[0;34m=\u001b[0m \u001b[0mb\u001b[0m\u001b[0;34m*\u001b[0m\u001b[0mr\u001b[0m \u001b[0;34m+\u001b[0m \u001b[0mk\u001b[0m\u001b[0;34m\u001b[0m\u001b[0;34m\u001b[0m\u001b[0m\n\u001b[1;32m     19\u001b[0m \u001b[0;31m#                     print(ik)\u001b[0m\u001b[0;34m\u001b[0m\u001b[0;34m\u001b[0m\u001b[0;34m\u001b[0m\u001b[0m\n\u001b[0;32m---> 20\u001b[0;31m                     \u001b[0msummation\u001b[0m \u001b[0;34m+=\u001b[0m \u001b[0;34m(\u001b[0m\u001b[0my\u001b[0m\u001b[0;34m[\u001b[0m\u001b[0mik\u001b[0m\u001b[0;34m]\u001b[0m \u001b[0;34m-\u001b[0m \u001b[0mhypothesis\u001b[0m\u001b[0;34m(\u001b[0m\u001b[0mtheta_t\u001b[0m\u001b[0;34m,\u001b[0m \u001b[0mx\u001b[0m\u001b[0;34m[\u001b[0m\u001b[0mik\u001b[0m\u001b[0;34m]\u001b[0m\u001b[0;34m)\u001b[0m\u001b[0;34m)\u001b[0m \u001b[0;34m*\u001b[0m \u001b[0mx\u001b[0m\u001b[0;34m[\u001b[0m\u001b[0mik\u001b[0m\u001b[0;34m]\u001b[0m\u001b[0;34m[\u001b[0m\u001b[0mj\u001b[0m\u001b[0;34m]\u001b[0m\u001b[0;34m\u001b[0m\u001b[0;34m\u001b[0m\u001b[0m\n\u001b[0m\u001b[1;32m     21\u001b[0m                 \u001b[0mtheta\u001b[0m\u001b[0;34m[\u001b[0m\u001b[0mj\u001b[0m\u001b[0;34m]\u001b[0m \u001b[0;34m=\u001b[0m \u001b[0mtheta\u001b[0m\u001b[0;34m[\u001b[0m\u001b[0mj\u001b[0m\u001b[0;34m]\u001b[0m \u001b[0;34m+\u001b[0m \u001b[0;34m(\u001b[0m\u001b[0mlearning_rate\u001b[0m \u001b[0;34m*\u001b[0m \u001b[0msummation\u001b[0m\u001b[0;34m)\u001b[0m\u001b[0;34m\u001b[0m\u001b[0;34m\u001b[0m\u001b[0m\n\u001b[1;32m     22\u001b[0m \u001b[0;34m\u001b[0m\u001b[0m\n",
      "\u001b[0;32m<ipython-input-58-08b44a1ea571>\u001b[0m in \u001b[0;36mhypothesis\u001b[0;34m(theta, x)\u001b[0m\n\u001b[1;32m      1\u001b[0m \u001b[0;32mdef\u001b[0m \u001b[0mhypothesis\u001b[0m\u001b[0;34m(\u001b[0m\u001b[0mtheta\u001b[0m\u001b[0;34m,\u001b[0m \u001b[0mx\u001b[0m\u001b[0;34m)\u001b[0m\u001b[0;34m:\u001b[0m\u001b[0;34m\u001b[0m\u001b[0;34m\u001b[0m\u001b[0m\n\u001b[0;32m----> 2\u001b[0;31m     \u001b[0;32mreturn\u001b[0m \u001b[0mnp\u001b[0m\u001b[0;34m.\u001b[0m\u001b[0mmatmul\u001b[0m\u001b[0;34m(\u001b[0m\u001b[0mtheta\u001b[0m\u001b[0;34m.\u001b[0m\u001b[0mT\u001b[0m\u001b[0;34m,\u001b[0m \u001b[0mx\u001b[0m\u001b[0;34m)\u001b[0m\u001b[0;34m\u001b[0m\u001b[0;34m\u001b[0m\u001b[0m\n\u001b[0m",
      "\u001b[0;31mKeyboardInterrupt\u001b[0m: "
     ]
    }
   ],
   "source": [
    "theta = stochastic_gradient_descent(0.0000001, 1000000, 1e-5)\n",
    "# theta = gradient_descent(0.001, 1e-5)"
   ]
  },
  {
   "cell_type": "code",
   "execution_count": 46,
   "metadata": {},
   "outputs": [
    {
     "name": "stdout",
     "output_type": "stream",
     "text": [
      "True\n"
     ]
    }
   ],
   "source": [
    "a = np.array([2, 0])\n",
    "b = np.array([1, 4])\n",
    "abs(a - b) > 3\n",
    "\n",
    "# theta_t = np.array([[]])\n",
    "\n",
    "print((theta - theta < 2).all())"
   ]
  }
 ],
 "metadata": {
  "kernelspec": {
   "display_name": "Python 3.6.9 64-bit ('env': virtualenv)",
   "language": "python",
   "name": "python36964bitenvvirtualenva3676227531c4597ab9c69327938848a"
  },
  "language_info": {
   "codemirror_mode": {
    "name": "ipython",
    "version": 3
   },
   "file_extension": ".py",
   "mimetype": "text/x-python",
   "name": "python",
   "nbconvert_exporter": "python",
   "pygments_lexer": "ipython3",
   "version": "3.6.9"
  }
 },
 "nbformat": 4,
 "nbformat_minor": 4
}
