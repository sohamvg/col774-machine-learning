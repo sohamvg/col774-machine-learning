{
 "cells": [
  {
   "cell_type": "code",
   "execution_count": 94,
   "metadata": {},
   "outputs": [],
   "source": [
    "# %matplotlib notebook\n",
    "\n",
    "import numpy as np\n",
    "import matplotlib.pyplot as plt\n",
    "from mpl_toolkits import mplot3d\n",
    "\n",
    "# !python --version"
   ]
  },
  {
   "cell_type": "code",
   "execution_count": 95,
   "metadata": {},
   "outputs": [
    {
     "data": {
      "image/png": "[encoded data removed]",
      "text/plain": [
       "<Figure size 432x288 with 1 Axes>"
      ]
     },
     "metadata": {
      "needs_background": "light"
     },
     "output_type": "display_data"
    }
   ],
   "source": [
    "x = np.loadtxt('ass1_data/data/q4/q4x.dat')\n",
    "y = np.loadtxt('ass1_data/data/q4/q4y.dat', dtype='U')\n",
    "\n",
    "n = np.size(x, 1)\n",
    "m = np.size(y)\n",
    "    \n",
    "for i in range(m):\n",
    "    if y[i] == 'Alaska':\n",
    "        y[i] = 0\n",
    "    else:\n",
    "        y[i] = 1\n",
    "\n",
    "y = y.astype('int32')\n",
    "        \n",
    "# normalize\n",
    "for i in range(n):\n",
    "    x[:,i] = (x[:,i] - x[:,i].mean()) / x[:,i].std()\n",
    "    \n",
    "x1_0 = []\n",
    "x2_0 = []\n",
    "x1_1 = []\n",
    "x2_1 = []\n",
    "for i in range(m):\n",
    "    if y[i] == 0:\n",
    "        x1_0.append(x[i][0])\n",
    "        x2_0.append(x[i][1])\n",
    "    else:\n",
    "        x1_1.append(x[i][0])\n",
    "        x2_1.append(x[i][1])        \n",
    "plt.scatter(x1_0, x2_0, marker='o')\n",
    "plt.scatter(x1_1, x2_1, marker='^')\n",
    "plt.xlabel(\"x1\")\n",
    "plt.ylabel(\"x2\")\n",
    "plt.show()\n",
    "    \n",
    "x = x.reshape((m, n, 1))"
   ]
  },
  {
   "cell_type": "code",
   "execution_count": 140,
   "metadata": {},
   "outputs": [
    {
     "name": "stdout",
     "output_type": "stream",
     "text": [
      "[[1.11022302e-15]] 0.0 [[-3.38925452]\n",
      " [ 2.43858399]] [[1.11022302e-15]]\n"
     ]
    },
    {
     "data": {
      "image/png": "[encoded data removed]",
      "text/plain": [
       "<Figure size 432x288 with 1 Axes>"
      ]
     },
     "metadata": {
      "needs_background": "light"
     },
     "output_type": "display_data"
    }
   ],
   "source": [
    "summation1 = np.zeros((n, 1))\n",
    "summation2 = 0\n",
    "summation3 = np.zeros((n, 1))\n",
    "summation4 = 0\n",
    "summation5 = np.zeros((n, n))\n",
    "\n",
    "for i in range(m):\n",
    "    summation1 += int(y[i] == 0) * x[i]\n",
    "    summation2 += int(y[i] == 0)\n",
    "    summation3 += int(y[i] == 1) * x[i]\n",
    "    summation4 += int(y[i] == 1)\n",
    "\n",
    "phi = summation4 / m\n",
    "mu0 = summation1 / summation2\n",
    "mu1 = summation3 / summation4\n",
    "mu = np.array([mu0, mu1])\n",
    "\n",
    "for i in range(m):\n",
    "    summation5 += np.matmul(x[i] - mu[y[i]], (x[i] - mu[y[i]]).T)\n",
    "    \n",
    "sigma = summation5 / m\n",
    "sigma_inv = np.linalg.inv(sigma)\n",
    "# np.log(phi/(1-phi))\n",
    "\n",
    "t1 = (mu[0].T @ sigma_inv @ mu[0] - mu[1].T @ sigma_inv @ mu[1])/2\n",
    "t2 = np.log(phi/(1-phi))\n",
    "t3 = sigma_inv @ (mu[0] - mu[1])\n",
    "print(t1, t2, t3, t1 - t2)\n",
    "# xT = (t1 - t2) @ t3 @ sigma\n",
    "\n",
    "# t3[0] x1 + t3[1] x2 = t1 - t2\n",
    "\n",
    "def get_x2(x1):\n",
    "    return ((t1 - t2) - (t3[0] * x1))/t3[1]\n",
    "\n",
    "# x[:, 0, 0]\n",
    "plt.plot(x[:, 0, 0], [get_x2(x1)[0][0] for x1 in x[:, 0, 0]], 'C2')\n",
    "\n",
    "x1_0 = []\n",
    "x2_0 = []\n",
    "x1_1 = []\n",
    "x2_1 = []\n",
    "for i in range(m):\n",
    "    if y[i] == 0:\n",
    "        x1_0.append(x[i][0])\n",
    "        x2_0.append(x[i][1])\n",
    "    else:\n",
    "        x1_1.append(x[i][0])\n",
    "        x2_1.append(x[i][1])        \n",
    "plt.scatter(x1_0, x2_0, marker='o')\n",
    "plt.scatter(x1_1, x2_1, marker='^')\n",
    "plt.xlabel(\"x1\")\n",
    "plt.ylabel(\"x2\")\n",
    "plt.show()\n",
    "    "
   ]
  },
  {
   "cell_type": "code",
   "execution_count": 139,
   "metadata": {},
   "outputs": [
    {
     "name": "stdout",
     "output_type": "stream",
     "text": [
      "[[ 0.38158978 -0.15486516]\n",
      " [-0.15486516  0.64773717]] [[0.47747117 0.1099206 ]\n",
      " [0.1099206  0.41355441]]\n"
     ]
    }
   ],
   "source": [
    "summation6 = np.zeros((n, n))\n",
    "summation7 = np.zeros((n, n))\n",
    "\n",
    "for i in range(m):\n",
    "    summation6 += int(y[i] == 0) * (x[i] - mu[y[i]]) @ (x[i] - mu[y[i]]).T\n",
    "    summation7 += int(y[i] == 1) * (x[i] - mu[y[i]]) @ (x[i] - mu[y[i]]).T\n",
    "    \n",
    "sigma0 = summation6 / summation2\n",
    "sigma1 = summation7 / summation4\n",
    "\n",
    "print(sigma0, sigma1)"
   ]
  }
 ],
 "metadata": {
  "kernelspec": {
   "display_name": "Python 3.6.9 64-bit ('env': virtualenv)",
   "language": "python",
   "name": "python36964bitenvvirtualenva3676227531c4597ab9c69327938848a"
  },
  "language_info": {
   "codemirror_mode": {
    "name": "ipython",
    "version": 3
   },
   "file_extension": ".py",
   "mimetype": "text/x-python",
   "name": "python",
   "nbconvert_exporter": "python",
   "pygments_lexer": "ipython3",
   "version": "3.6.9"
  }
 },
 "nbformat": 4,
 "nbformat_minor": 4
}
